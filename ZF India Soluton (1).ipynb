{
 "cells": [
  {
   "cell_type": "markdown",
   "metadata": {},
   "source": [
    "Name : Prachi Jha\n",
    "Reg. No. : RA2011026030093"
   ]
  },
  {
   "cell_type": "markdown",
   "metadata": {},
   "source": [
    "### Importing all the required libraries"
   ]
  },
  {
   "cell_type": "code",
   "execution_count": 1,
   "metadata": {},
   "outputs": [],
   "source": [
    "import numpy as np\n",
    "import pandas as pd\n",
    "import matplotlib.pyplot as plt\n",
    "import seaborn as sns\n",
    "%matplotlib inline"
   ]
  },
  {
   "cell_type": "markdown",
   "metadata": {},
   "source": [
    "### Importing dataset from the given excel sheet and reading data from a particular sheet"
   ]
  },
  {
   "cell_type": "code",
   "execution_count": 2,
   "metadata": {},
   "outputs": [
    {
     "name": "stdout",
     "output_type": "stream",
     "text": [
      "['Data', 'Problem statement']\n"
     ]
    }
   ],
   "source": [
    "path = (r'C:\\Users\\PRACHI JHA\\OneDrive\\Desktop\\Assignment- Membership woes.xlsx')\n",
    "dataset_org = pd.ExcelFile(path)\n",
    "print(dataset_org.sheet_names)"
   ]
  },
  {
   "cell_type": "code",
   "execution_count": 3,
   "metadata": {},
   "outputs": [
    {
     "name": "stdout",
     "output_type": "stream",
     "text": [
      "      MEMBERSHIP_NUMBER  MEMBERSHIP_TERM_YEARS  ANNUAL_FEES  \\\n",
      "0                A00001                     29    113125.00   \n",
      "1                A00002                     38    112220.00   \n",
      "2                A00003                     12    100000.00   \n",
      "3                A00004                     12    100000.00   \n",
      "4                A00005                     46    100000.00   \n",
      "...                 ...                    ...          ...   \n",
      "10357            A10362                     17    206180.15   \n",
      "10358            A10363                     22    100000.42   \n",
      "10359            A10364                     17    270950.45   \n",
      "10360            A10365                     57    210006.61   \n",
      "10361            A10366                     17    100000.36   \n",
      "\n",
      "      MEMBER_MARITAL_STATUS MEMBER_GENDER  MEMBER_ANNUAL_INCOME  \\\n",
      "0                         M             M            25200000.0   \n",
      "1                         M             M            10339200.0   \n",
      "2                         M             M            14400000.0   \n",
      "3                         M             M             9000000.0   \n",
      "4                         M             M             4800000.0   \n",
      "...                     ...           ...                   ...   \n",
      "10357                   NaN             M                   NaN   \n",
      "10358                   NaN             F              399996.0   \n",
      "10359                   NaN             M                   NaN   \n",
      "10360                   NaN             M                   NaN   \n",
      "10361                     W             F              300000.0   \n",
      "\n",
      "       MEMBER_OCCUPATION_CD MEMBERSHIP_PACKAGE  MEMBER_AGE_AT_ISSUE  \\\n",
      "0                       1.0             TYPE-B                   45   \n",
      "1                       1.0             TYPE-B                   36   \n",
      "2                       1.0             TYPE-B                   42   \n",
      "3                       1.0             TYPE-B                   39   \n",
      "4                       1.0             TYPE-B                   27   \n",
      "...                     ...                ...                  ...   \n",
      "10357                   6.0             TYPE-A                   71   \n",
      "10358                   2.0             TYPE-A                   63   \n",
      "10359                   6.0             TYPE-A                   62   \n",
      "10360                   6.0             TYPE-A                   72   \n",
      "10361                   1.0             TYPE-A                   56   \n",
      "\n",
      "       ADDITIONAL_MEMBERS PAYMENT_MODE AGENT_CODE MEMBERSHIP_STATUS  \\\n",
      "0                       2       ANNUAL        477           INFORCE   \n",
      "1                       3    QUARTERLY        255           INFORCE   \n",
      "2                       1       ANNUAL       7866           INFORCE   \n",
      "3                       2       ANNUAL     200533           INFORCE   \n",
      "4                       2    QUARTERLY       6988           INFORCE   \n",
      "...                   ...          ...        ...               ...   \n",
      "10357                   0       ANNUAL    1438477           INFORCE   \n",
      "10358                   0       ANNUAL    1288288           INFORCE   \n",
      "10359                   3       ANNUAL    1244022           INFORCE   \n",
      "10360                   2       ANNUAL    1436000           INFORCE   \n",
      "10361                   0  SEMI-ANNUAL     347999           INFORCE   \n",
      "\n",
      "       START_DATE (YYYYMMDD)  END_DATE  (YYYYMMDD)  \n",
      "0                   20060914                   NaN  \n",
      "1                   20061102                   NaN  \n",
      "2                   20070124                   NaN  \n",
      "3                   20070122                   NaN  \n",
      "4                   20070131                   NaN  \n",
      "...                      ...                   ...  \n",
      "10357               20131129                   NaN  \n",
      "10358               20131129                   NaN  \n",
      "10359               20131129                   NaN  \n",
      "10360               20131129                   NaN  \n",
      "10361               20131129                   NaN  \n",
      "\n",
      "[10362 rows x 15 columns]\n"
     ]
    }
   ],
   "source": [
    "df1 = dataset_org.parse('Data')\n",
    "print(df1)"
   ]
  },
  {
   "cell_type": "markdown",
   "metadata": {},
   "source": [
    "### Checking what type of data is present in the given excel sheet"
   ]
  },
  {
   "cell_type": "code",
   "execution_count": 4,
   "metadata": {},
   "outputs": [
    {
     "name": "stdout",
     "output_type": "stream",
     "text": [
      "<class 'pandas.core.frame.DataFrame'>\n",
      "RangeIndex: 10362 entries, 0 to 10361\n",
      "Data columns (total 15 columns):\n",
      " #   Column                 Non-Null Count  Dtype  \n",
      "---  ------                 --------------  -----  \n",
      " 0   MEMBERSHIP_NUMBER      10362 non-null  object \n",
      " 1   MEMBERSHIP_TERM_YEARS  10362 non-null  int64  \n",
      " 2   ANNUAL_FEES            10362 non-null  float64\n",
      " 3   MEMBER_MARITAL_STATUS  7765 non-null   object \n",
      " 4   MEMBER_GENDER          9751 non-null   object \n",
      " 5   MEMBER_ANNUAL_INCOME   8608 non-null   float64\n",
      " 6   MEMBER_OCCUPATION_CD   10319 non-null  float64\n",
      " 7   MEMBERSHIP_PACKAGE     10362 non-null  object \n",
      " 8   MEMBER_AGE_AT_ISSUE    10362 non-null  int64  \n",
      " 9   ADDITIONAL_MEMBERS     10362 non-null  int64  \n",
      " 10  PAYMENT_MODE           10362 non-null  object \n",
      " 11  AGENT_CODE             10362 non-null  object \n",
      " 12  MEMBERSHIP_STATUS      10362 non-null  object \n",
      " 13  START_DATE (YYYYMMDD)  10362 non-null  int64  \n",
      " 14  END_DATE  (YYYYMMDD)   3143 non-null   float64\n",
      "dtypes: float64(4), int64(4), object(7)\n",
      "memory usage: 1.2+ MB\n"
     ]
    }
   ],
   "source": [
    "df1.info()"
   ]
  },
  {
   "cell_type": "markdown",
   "metadata": {},
   "source": [
    "### Checking null values present for different variables"
   ]
  },
  {
   "cell_type": "code",
   "execution_count": 5,
   "metadata": {},
   "outputs": [
    {
     "data": {
      "text/plain": [
       "MEMBERSHIP_NUMBER           0\n",
       "MEMBERSHIP_TERM_YEARS       0\n",
       "ANNUAL_FEES                 0\n",
       "MEMBER_MARITAL_STATUS    2597\n",
       "MEMBER_GENDER             611\n",
       "MEMBER_ANNUAL_INCOME     1754\n",
       "MEMBER_OCCUPATION_CD       43\n",
       "MEMBERSHIP_PACKAGE          0\n",
       "MEMBER_AGE_AT_ISSUE         0\n",
       "ADDITIONAL_MEMBERS          0\n",
       "PAYMENT_MODE                0\n",
       "AGENT_CODE                  0\n",
       "MEMBERSHIP_STATUS           0\n",
       "START_DATE (YYYYMMDD)       0\n",
       "END_DATE  (YYYYMMDD)     7219\n",
       "dtype: int64"
      ]
     },
     "execution_count": 5,
     "metadata": {},
     "output_type": "execute_result"
    }
   ],
   "source": [
    "df1.isnull().sum()"
   ]
  },
  {
   "cell_type": "markdown",
   "metadata": {},
   "source": [
    "### Null value imputation for missing values"
   ]
  },
  {
   "cell_type": "code",
   "execution_count": 6,
   "metadata": {},
   "outputs": [
    {
     "name": "stdout",
     "output_type": "stream",
     "text": [
      "M    6430\n",
      "S    1144\n",
      "W     146\n",
      "D      45\n",
      "Name: MEMBER_MARITAL_STATUS, dtype: int64\n",
      "M    7330\n",
      "F    2421\n",
      "Name: MEMBER_GENDER, dtype: int64\n",
      "549996.0\n",
      "1.0    7281\n",
      "2.0    1778\n",
      "6.0     728\n",
      "5.0     324\n",
      "4.0     207\n",
      "3.0       1\n",
      "Name: MEMBER_OCCUPATION_CD, dtype: int64\n"
     ]
    }
   ],
   "source": [
    "print(df1.MEMBER_MARITAL_STATUS.value_counts())\n",
    "print(df1.MEMBER_GENDER.value_counts())\n",
    "print(df1.MEMBER_ANNUAL_INCOME.median())\n",
    "print(df1.MEMBER_OCCUPATION_CD.value_counts())"
   ]
  },
  {
   "cell_type": "code",
   "execution_count": 8,
   "metadata": {},
   "outputs": [],
   "source": [
    "#Considering majority class for members Gender, Marital status and Occupation code\n",
    "df1.MEMBER_MARITAL_STATUS = df1.MEMBER_MARITAL_STATUS.fillna('M')\n",
    "df1.MEMBER_GENDER = df1.MEMBER_GENDER.fillna('M')\n",
    "df1.MEMBER_OCCUPATION_CD = df1.MEMBER_OCCUPATION_CD.fillna(1.0)\n",
    "\n",
    "#Considering mean value for imputing missing Annual income of member\n",
    "df1.MEMBER_ANNUAL_INCOME = df1.MEMBER_ANNUAL_INCOME.fillna(549996.0)"
   ]
  },
  {
   "cell_type": "code",
   "execution_count": 9,
   "metadata": {},
   "outputs": [
    {
     "data": {
      "text/plain": [
       "MEMBERSHIP_NUMBER           0\n",
       "MEMBERSHIP_TERM_YEARS       0\n",
       "ANNUAL_FEES                 0\n",
       "MEMBER_MARITAL_STATUS       0\n",
       "MEMBER_GENDER               0\n",
       "MEMBER_ANNUAL_INCOME        0\n",
       "MEMBER_OCCUPATION_CD        0\n",
       "MEMBERSHIP_PACKAGE          0\n",
       "MEMBER_AGE_AT_ISSUE         0\n",
       "ADDITIONAL_MEMBERS          0\n",
       "PAYMENT_MODE                0\n",
       "AGENT_CODE                  0\n",
       "MEMBERSHIP_STATUS           0\n",
       "START_DATE (YYYYMMDD)       0\n",
       "END_DATE  (YYYYMMDD)     7219\n",
       "dtype: int64"
      ]
     },
     "execution_count": 9,
     "metadata": {},
     "output_type": "execute_result"
    }
   ],
   "source": [
    "df1.isnull().sum()"
   ]
  },
  {
   "cell_type": "code",
   "execution_count": 10,
   "metadata": {},
   "outputs": [
    {
     "data": {
      "text/html": [
       "<div>\n",
       "<style scoped>\n",
       "    .dataframe tbody tr th:only-of-type {\n",
       "        vertical-align: middle;\n",
       "    }\n",
       "\n",
       "    .dataframe tbody tr th {\n",
       "        vertical-align: top;\n",
       "    }\n",
       "\n",
       "    .dataframe thead th {\n",
       "        text-align: right;\n",
       "    }\n",
       "</style>\n",
       "<table border=\"1\" class=\"dataframe\">\n",
       "  <thead>\n",
       "    <tr style=\"text-align: right;\">\n",
       "      <th></th>\n",
       "      <th>MEMBERSHIP_TERM_YEARS</th>\n",
       "      <th>ANNUAL_FEES</th>\n",
       "      <th>MEMBER_ANNUAL_INCOME</th>\n",
       "      <th>MEMBER_OCCUPATION_CD</th>\n",
       "      <th>MEMBER_AGE_AT_ISSUE</th>\n",
       "      <th>ADDITIONAL_MEMBERS</th>\n",
       "      <th>START_DATE (YYYYMMDD)</th>\n",
       "      <th>END_DATE  (YYYYMMDD)</th>\n",
       "    </tr>\n",
       "  </thead>\n",
       "  <tbody>\n",
       "    <tr>\n",
       "      <th>count</th>\n",
       "      <td>10362.000000</td>\n",
       "      <td>1.036200e+04</td>\n",
       "      <td>1.036200e+04</td>\n",
       "      <td>10362.000000</td>\n",
       "      <td>10362.000000</td>\n",
       "      <td>10362.000000</td>\n",
       "      <td>1.036200e+04</td>\n",
       "      <td>3.143000e+03</td>\n",
       "    </tr>\n",
       "    <tr>\n",
       "      <th>mean</th>\n",
       "      <td>29.395001</td>\n",
       "      <td>1.788122e+05</td>\n",
       "      <td>1.298568e+06</td>\n",
       "      <td>1.708068</td>\n",
       "      <td>46.798494</td>\n",
       "      <td>1.412276</td>\n",
       "      <td>2.010828e+07</td>\n",
       "      <td>2.011390e+07</td>\n",
       "    </tr>\n",
       "    <tr>\n",
       "      <th>std</th>\n",
       "      <td>22.427712</td>\n",
       "      <td>2.688747e+05</td>\n",
       "      <td>1.601904e+07</td>\n",
       "      <td>1.451660</td>\n",
       "      <td>13.897085</td>\n",
       "      <td>1.145136</td>\n",
       "      <td>1.719666e+04</td>\n",
       "      <td>1.378483e+04</td>\n",
       "    </tr>\n",
       "    <tr>\n",
       "      <th>min</th>\n",
       "      <td>9.000000</td>\n",
       "      <td>0.000000e+00</td>\n",
       "      <td>9.996000e+03</td>\n",
       "      <td>1.000000</td>\n",
       "      <td>0.000000</td>\n",
       "      <td>0.000000</td>\n",
       "      <td>2.006091e+07</td>\n",
       "      <td>2.007083e+07</td>\n",
       "    </tr>\n",
       "    <tr>\n",
       "      <th>25%</th>\n",
       "      <td>12.000000</td>\n",
       "      <td>1.000000e+05</td>\n",
       "      <td>3.999960e+05</td>\n",
       "      <td>1.000000</td>\n",
       "      <td>37.000000</td>\n",
       "      <td>0.000000</td>\n",
       "      <td>2.009123e+07</td>\n",
       "      <td>2.010122e+07</td>\n",
       "    </tr>\n",
       "    <tr>\n",
       "      <th>50%</th>\n",
       "      <td>19.000000</td>\n",
       "      <td>1.182093e+05</td>\n",
       "      <td>5.499960e+05</td>\n",
       "      <td>1.000000</td>\n",
       "      <td>46.000000</td>\n",
       "      <td>1.000000</td>\n",
       "      <td>2.010123e+07</td>\n",
       "      <td>2.011113e+07</td>\n",
       "    </tr>\n",
       "    <tr>\n",
       "      <th>75%</th>\n",
       "      <td>37.000000</td>\n",
       "      <td>1.900000e+05</td>\n",
       "      <td>9.000000e+05</td>\n",
       "      <td>2.000000</td>\n",
       "      <td>57.000000</td>\n",
       "      <td>2.000000</td>\n",
       "      <td>2.012123e+07</td>\n",
       "      <td>2.013012e+07</td>\n",
       "    </tr>\n",
       "    <tr>\n",
       "      <th>max</th>\n",
       "      <td>102.000000</td>\n",
       "      <td>1.010000e+07</td>\n",
       "      <td>1.000000e+09</td>\n",
       "      <td>6.000000</td>\n",
       "      <td>92.000000</td>\n",
       "      <td>3.000000</td>\n",
       "      <td>2.013113e+07</td>\n",
       "      <td>2.013112e+07</td>\n",
       "    </tr>\n",
       "  </tbody>\n",
       "</table>\n",
       "</div>"
      ],
      "text/plain": [
       "       MEMBERSHIP_TERM_YEARS   ANNUAL_FEES  MEMBER_ANNUAL_INCOME  \\\n",
       "count           10362.000000  1.036200e+04          1.036200e+04   \n",
       "mean               29.395001  1.788122e+05          1.298568e+06   \n",
       "std                22.427712  2.688747e+05          1.601904e+07   \n",
       "min                 9.000000  0.000000e+00          9.996000e+03   \n",
       "25%                12.000000  1.000000e+05          3.999960e+05   \n",
       "50%                19.000000  1.182093e+05          5.499960e+05   \n",
       "75%                37.000000  1.900000e+05          9.000000e+05   \n",
       "max               102.000000  1.010000e+07          1.000000e+09   \n",
       "\n",
       "       MEMBER_OCCUPATION_CD  MEMBER_AGE_AT_ISSUE  ADDITIONAL_MEMBERS  \\\n",
       "count          10362.000000         10362.000000        10362.000000   \n",
       "mean               1.708068            46.798494            1.412276   \n",
       "std                1.451660            13.897085            1.145136   \n",
       "min                1.000000             0.000000            0.000000   \n",
       "25%                1.000000            37.000000            0.000000   \n",
       "50%                1.000000            46.000000            1.000000   \n",
       "75%                2.000000            57.000000            2.000000   \n",
       "max                6.000000            92.000000            3.000000   \n",
       "\n",
       "       START_DATE (YYYYMMDD)  END_DATE  (YYYYMMDD)  \n",
       "count           1.036200e+04          3.143000e+03  \n",
       "mean            2.010828e+07          2.011390e+07  \n",
       "std             1.719666e+04          1.378483e+04  \n",
       "min             2.006091e+07          2.007083e+07  \n",
       "25%             2.009123e+07          2.010122e+07  \n",
       "50%             2.010123e+07          2.011113e+07  \n",
       "75%             2.012123e+07          2.013012e+07  \n",
       "max             2.013113e+07          2.013112e+07  "
      ]
     },
     "execution_count": 10,
     "metadata": {},
     "output_type": "execute_result"
    }
   ],
   "source": [
    "df1.describe()"
   ]
  },
  {
   "cell_type": "code",
   "execution_count": 11,
   "metadata": {},
   "outputs": [
    {
     "name": "stdout",
     "output_type": "stream",
     "text": [
      "<class 'pandas.core.frame.DataFrame'>\n",
      "RangeIndex: 10362 entries, 0 to 10361\n",
      "Data columns (total 15 columns):\n",
      " #   Column                 Non-Null Count  Dtype  \n",
      "---  ------                 --------------  -----  \n",
      " 0   MEMBERSHIP_NUMBER      10362 non-null  object \n",
      " 1   MEMBERSHIP_TERM_YEARS  10362 non-null  int64  \n",
      " 2   ANNUAL_FEES            10362 non-null  float64\n",
      " 3   MEMBER_MARITAL_STATUS  10362 non-null  object \n",
      " 4   MEMBER_GENDER          10362 non-null  object \n",
      " 5   MEMBER_ANNUAL_INCOME   10362 non-null  float64\n",
      " 6   MEMBER_OCCUPATION_CD   10362 non-null  float64\n",
      " 7   MEMBERSHIP_PACKAGE     10362 non-null  object \n",
      " 8   MEMBER_AGE_AT_ISSUE    10362 non-null  int64  \n",
      " 9   ADDITIONAL_MEMBERS     10362 non-null  int64  \n",
      " 10  PAYMENT_MODE           10362 non-null  object \n",
      " 11  AGENT_CODE             10362 non-null  object \n",
      " 12  MEMBERSHIP_STATUS      10362 non-null  object \n",
      " 13  START_DATE (YYYYMMDD)  10362 non-null  int64  \n",
      " 14  END_DATE  (YYYYMMDD)   3143 non-null   float64\n",
      "dtypes: float64(4), int64(4), object(7)\n",
      "memory usage: 1.2+ MB\n"
     ]
    }
   ],
   "source": [
    "df1.info()"
   ]
  },
  {
   "cell_type": "markdown",
   "metadata": {},
   "source": [
    "### Checking correlation"
   ]
  },
  {
   "cell_type": "code",
   "execution_count": 12,
   "metadata": {},
   "outputs": [
    {
     "data": {
      "image/png": "[encoded data removed]",
      "text/plain": [
       "<Figure size 864x864 with 2 Axes>"
      ]
     },
     "metadata": {
      "needs_background": "light"
     },
     "output_type": "display_data"
    }
   ],
   "source": [
    "corr = df1.corr()\n",
    "fig = plt.figure(figsize=(12,12))\n",
    "ax = fig.add_subplot(111)\n",
    "cax = ax.matshow(corr,cmap='magma', vmin=-1, vmax=1)\n",
    "fig.colorbar(cax)\n",
    "ticks = np.arange(0,len(df1.columns),1)\n",
    "ax.set_xticks(ticks)\n",
    "plt.xticks(rotation=90)\n",
    "ax.set_yticks(ticks)\n",
    "ax.set_xticklabels(df1.columns)\n",
    "ax.set_yticklabels(df1.columns)\n",
    "plt.show()"
   ]
  },
  {
   "cell_type": "markdown",
   "metadata": {},
   "source": [
    "### Converting target variable to 0(INFORCE) and 1(CANCELLED)"
   ]
  },
  {
   "cell_type": "code",
   "execution_count": 13,
   "metadata": {},
   "outputs": [
    {
     "name": "stderr",
     "output_type": "stream",
     "text": [
      "<ipython-input-13-0870637870df>:1: SettingWithCopyWarning: \n",
      "A value is trying to be set on a copy of a slice from a DataFrame\n",
      "\n",
      "See the caveats in the documentation: https://pandas.pydata.org/pandas-docs/stable/user_guide/indexing.html#returning-a-view-versus-a-copy\n",
      "  df1.MEMBERSHIP_STATUS[df1.MEMBERSHIP_STATUS == 'INFORCE'] = 0\n",
      "<ipython-input-13-0870637870df>:2: SettingWithCopyWarning: \n",
      "A value is trying to be set on a copy of a slice from a DataFrame\n",
      "\n",
      "See the caveats in the documentation: https://pandas.pydata.org/pandas-docs/stable/user_guide/indexing.html#returning-a-view-versus-a-copy\n",
      "  df1.MEMBERSHIP_STATUS[df1.MEMBERSHIP_STATUS == 'CANCELLED'] = 1\n"
     ]
    }
   ],
   "source": [
    "df1.MEMBERSHIP_STATUS[df1.MEMBERSHIP_STATUS == 'INFORCE'] = 0\n",
    "df1.MEMBERSHIP_STATUS[df1.MEMBERSHIP_STATUS == 'CANCELLED'] = 1"
   ]
  },
  {
   "cell_type": "markdown",
   "metadata": {},
   "source": [
    "### Creating dummy variables out of Members marital status"
   ]
  },
  {
   "cell_type": "code",
   "execution_count": 14,
   "metadata": {},
   "outputs": [
    {
     "data": {
      "text/html": [
       "<div>\n",
       "<style scoped>\n",
       "    .dataframe tbody tr th:only-of-type {\n",
       "        vertical-align: middle;\n",
       "    }\n",
       "\n",
       "    .dataframe tbody tr th {\n",
       "        vertical-align: top;\n",
       "    }\n",
       "\n",
       "    .dataframe thead th {\n",
       "        text-align: right;\n",
       "    }\n",
       "</style>\n",
       "<table border=\"1\" class=\"dataframe\">\n",
       "  <thead>\n",
       "    <tr style=\"text-align: right;\">\n",
       "      <th></th>\n",
       "      <th>MEMBER_MARITAL_STATUS_D</th>\n",
       "      <th>MEMBER_MARITAL_STATUS_M</th>\n",
       "      <th>MEMBER_MARITAL_STATUS_S</th>\n",
       "      <th>MEMBER_MARITAL_STATUS_W</th>\n",
       "    </tr>\n",
       "  </thead>\n",
       "  <tbody>\n",
       "    <tr>\n",
       "      <th>0</th>\n",
       "      <td>0</td>\n",
       "      <td>1</td>\n",
       "      <td>0</td>\n",
       "      <td>0</td>\n",
       "    </tr>\n",
       "    <tr>\n",
       "      <th>1</th>\n",
       "      <td>0</td>\n",
       "      <td>1</td>\n",
       "      <td>0</td>\n",
       "      <td>0</td>\n",
       "    </tr>\n",
       "    <tr>\n",
       "      <th>2</th>\n",
       "      <td>0</td>\n",
       "      <td>1</td>\n",
       "      <td>0</td>\n",
       "      <td>0</td>\n",
       "    </tr>\n",
       "    <tr>\n",
       "      <th>3</th>\n",
       "      <td>0</td>\n",
       "      <td>1</td>\n",
       "      <td>0</td>\n",
       "      <td>0</td>\n",
       "    </tr>\n",
       "    <tr>\n",
       "      <th>4</th>\n",
       "      <td>0</td>\n",
       "      <td>1</td>\n",
       "      <td>0</td>\n",
       "      <td>0</td>\n",
       "    </tr>\n",
       "  </tbody>\n",
       "</table>\n",
       "</div>"
      ],
      "text/plain": [
       "   MEMBER_MARITAL_STATUS_D  MEMBER_MARITAL_STATUS_M  MEMBER_MARITAL_STATUS_S  \\\n",
       "0                        0                        1                        0   \n",
       "1                        0                        1                        0   \n",
       "2                        0                        1                        0   \n",
       "3                        0                        1                        0   \n",
       "4                        0                        1                        0   \n",
       "\n",
       "   MEMBER_MARITAL_STATUS_W  \n",
       "0                        0  \n",
       "1                        0  \n",
       "2                        0  \n",
       "3                        0  \n",
       "4                        0  "
      ]
     },
     "execution_count": 14,
     "metadata": {},
     "output_type": "execute_result"
    }
   ],
   "source": [
    "df_MEMBER_MARITAL_STATUS = pd.get_dummies(df1.MEMBER_MARITAL_STATUS\n",
    "                                          ,prefix='MEMBER_MARITAL_STATUS')\n",
    "df_MEMBER_MARITAL_STATUS.head()"
   ]
  },
  {
   "cell_type": "markdown",
   "metadata": {},
   "source": [
    "### Creating dummy variables out of Membership package"
   ]
  },
  {
   "cell_type": "code",
   "execution_count": 15,
   "metadata": {},
   "outputs": [
    {
     "data": {
      "text/html": [
       "<div>\n",
       "<style scoped>\n",
       "    .dataframe tbody tr th:only-of-type {\n",
       "        vertical-align: middle;\n",
       "    }\n",
       "\n",
       "    .dataframe tbody tr th {\n",
       "        vertical-align: top;\n",
       "    }\n",
       "\n",
       "    .dataframe thead th {\n",
       "        text-align: right;\n",
       "    }\n",
       "</style>\n",
       "<table border=\"1\" class=\"dataframe\">\n",
       "  <thead>\n",
       "    <tr style=\"text-align: right;\">\n",
       "      <th></th>\n",
       "      <th>MEMBERSHIP_PACKAGE_TYPE-A</th>\n",
       "      <th>MEMBERSHIP_PACKAGE_TYPE-B</th>\n",
       "    </tr>\n",
       "  </thead>\n",
       "  <tbody>\n",
       "    <tr>\n",
       "      <th>0</th>\n",
       "      <td>0</td>\n",
       "      <td>1</td>\n",
       "    </tr>\n",
       "    <tr>\n",
       "      <th>1</th>\n",
       "      <td>0</td>\n",
       "      <td>1</td>\n",
       "    </tr>\n",
       "    <tr>\n",
       "      <th>2</th>\n",
       "      <td>0</td>\n",
       "      <td>1</td>\n",
       "    </tr>\n",
       "    <tr>\n",
       "      <th>3</th>\n",
       "      <td>0</td>\n",
       "      <td>1</td>\n",
       "    </tr>\n",
       "    <tr>\n",
       "      <th>4</th>\n",
       "      <td>0</td>\n",
       "      <td>1</td>\n",
       "    </tr>\n",
       "  </tbody>\n",
       "</table>\n",
       "</div>"
      ],
      "text/plain": [
       "   MEMBERSHIP_PACKAGE_TYPE-A  MEMBERSHIP_PACKAGE_TYPE-B\n",
       "0                          0                          1\n",
       "1                          0                          1\n",
       "2                          0                          1\n",
       "3                          0                          1\n",
       "4                          0                          1"
      ]
     },
     "execution_count": 15,
     "metadata": {},
     "output_type": "execute_result"
    }
   ],
   "source": [
    "df_MEMBERSHIP_PACKAGE = pd.get_dummies(df1.MEMBERSHIP_PACKAGE\n",
    "                                          ,prefix='MEMBERSHIP_PACKAGE')\n",
    "df_MEMBERSHIP_PACKAGE.head()"
   ]
  },
  {
   "cell_type": "markdown",
   "metadata": {},
   "source": [
    "### Creating dummy variables out of Payment mode status"
   ]
  },
  {
   "cell_type": "code",
   "execution_count": 16,
   "metadata": {},
   "outputs": [
    {
     "data": {
      "text/html": [
       "<div>\n",
       "<style scoped>\n",
       "    .dataframe tbody tr th:only-of-type {\n",
       "        vertical-align: middle;\n",
       "    }\n",
       "\n",
       "    .dataframe tbody tr th {\n",
       "        vertical-align: top;\n",
       "    }\n",
       "\n",
       "    .dataframe thead th {\n",
       "        text-align: right;\n",
       "    }\n",
       "</style>\n",
       "<table border=\"1\" class=\"dataframe\">\n",
       "  <thead>\n",
       "    <tr style=\"text-align: right;\">\n",
       "      <th></th>\n",
       "      <th>PAYMENT_MODE_ANNUAL</th>\n",
       "      <th>PAYMENT_MODE_MONTHLY</th>\n",
       "      <th>PAYMENT_MODE_QUARTERLY</th>\n",
       "      <th>PAYMENT_MODE_SEMI-ANNUAL</th>\n",
       "      <th>PAYMENT_MODE_SINGLE-PREMIUM</th>\n",
       "    </tr>\n",
       "  </thead>\n",
       "  <tbody>\n",
       "    <tr>\n",
       "      <th>0</th>\n",
       "      <td>1</td>\n",
       "      <td>0</td>\n",
       "      <td>0</td>\n",
       "      <td>0</td>\n",
       "      <td>0</td>\n",
       "    </tr>\n",
       "    <tr>\n",
       "      <th>1</th>\n",
       "      <td>0</td>\n",
       "      <td>0</td>\n",
       "      <td>1</td>\n",
       "      <td>0</td>\n",
       "      <td>0</td>\n",
       "    </tr>\n",
       "    <tr>\n",
       "      <th>2</th>\n",
       "      <td>1</td>\n",
       "      <td>0</td>\n",
       "      <td>0</td>\n",
       "      <td>0</td>\n",
       "      <td>0</td>\n",
       "    </tr>\n",
       "    <tr>\n",
       "      <th>3</th>\n",
       "      <td>1</td>\n",
       "      <td>0</td>\n",
       "      <td>0</td>\n",
       "      <td>0</td>\n",
       "      <td>0</td>\n",
       "    </tr>\n",
       "    <tr>\n",
       "      <th>4</th>\n",
       "      <td>0</td>\n",
       "      <td>0</td>\n",
       "      <td>1</td>\n",
       "      <td>0</td>\n",
       "      <td>0</td>\n",
       "    </tr>\n",
       "  </tbody>\n",
       "</table>\n",
       "</div>"
      ],
      "text/plain": [
       "   PAYMENT_MODE_ANNUAL  PAYMENT_MODE_MONTHLY  PAYMENT_MODE_QUARTERLY  \\\n",
       "0                    1                     0                       0   \n",
       "1                    0                     0                       1   \n",
       "2                    1                     0                       0   \n",
       "3                    1                     0                       0   \n",
       "4                    0                     0                       1   \n",
       "\n",
       "   PAYMENT_MODE_SEMI-ANNUAL  PAYMENT_MODE_SINGLE-PREMIUM  \n",
       "0                         0                            0  \n",
       "1                         0                            0  \n",
       "2                         0                            0  \n",
       "3                         0                            0  \n",
       "4                         0                            0  "
      ]
     },
     "execution_count": 16,
     "metadata": {},
     "output_type": "execute_result"
    }
   ],
   "source": [
    "df_PAYMENT_MODE = pd.get_dummies(df1.PAYMENT_MODE\n",
    "                                          ,prefix='PAYMENT_MODE')\n",
    "df_PAYMENT_MODE.head()"
   ]
  },
  {
   "cell_type": "markdown",
   "metadata": {},
   "source": [
    "### Converting target variable to 0(MALE) and 1(FEMALE)"
   ]
  },
  {
   "cell_type": "code",
   "execution_count": 17,
   "metadata": {},
   "outputs": [
    {
     "name": "stderr",
     "output_type": "stream",
     "text": [
      "<ipython-input-17-8e9ebe022f3c>:1: SettingWithCopyWarning: \n",
      "A value is trying to be set on a copy of a slice from a DataFrame\n",
      "\n",
      "See the caveats in the documentation: https://pandas.pydata.org/pandas-docs/stable/user_guide/indexing.html#returning-a-view-versus-a-copy\n",
      "  df1.MEMBER_GENDER[df1.MEMBER_GENDER == 'M'] = 0\n",
      "<ipython-input-17-8e9ebe022f3c>:2: SettingWithCopyWarning: \n",
      "A value is trying to be set on a copy of a slice from a DataFrame\n",
      "\n",
      "See the caveats in the documentation: https://pandas.pydata.org/pandas-docs/stable/user_guide/indexing.html#returning-a-view-versus-a-copy\n",
      "  df1.MEMBER_GENDER[df1.MEMBER_GENDER == 'F'] = 1\n"
     ]
    }
   ],
   "source": [
    "df1.MEMBER_GENDER[df1.MEMBER_GENDER == 'M'] = 0\n",
    "df1.MEMBER_GENDER[df1.MEMBER_GENDER == 'F'] = 1"
   ]
  },
  {
   "cell_type": "code",
   "execution_count": 18,
   "metadata": {},
   "outputs": [
    {
     "data": {
      "text/plain": [
       "MEMBERSHIP_NUMBER           0\n",
       "MEMBERSHIP_TERM_YEARS       0\n",
       "ANNUAL_FEES                 0\n",
       "MEMBER_MARITAL_STATUS       0\n",
       "MEMBER_GENDER               0\n",
       "MEMBER_ANNUAL_INCOME        0\n",
       "MEMBER_OCCUPATION_CD        0\n",
       "MEMBERSHIP_PACKAGE          0\n",
       "MEMBER_AGE_AT_ISSUE         0\n",
       "ADDITIONAL_MEMBERS          0\n",
       "PAYMENT_MODE                0\n",
       "AGENT_CODE                  0\n",
       "MEMBERSHIP_STATUS           0\n",
       "START_DATE (YYYYMMDD)       0\n",
       "END_DATE  (YYYYMMDD)     7219\n",
       "dtype: int64"
      ]
     },
     "execution_count": 18,
     "metadata": {},
     "output_type": "execute_result"
    }
   ],
   "source": [
    "df1.isnull().sum()"
   ]
  },
  {
   "cell_type": "code",
   "execution_count": 19,
   "metadata": {},
   "outputs": [
    {
     "data": {
      "text/plain": [
       "array(['MEMBERSHIP_NUMBER', 'MEMBERSHIP_TERM_YEARS', 'ANNUAL_FEES',\n",
       "       'MEMBER_MARITAL_STATUS', 'MEMBER_GENDER', 'MEMBER_ANNUAL_INCOME',\n",
       "       'MEMBER_OCCUPATION_CD', 'MEMBERSHIP_PACKAGE',\n",
       "       'MEMBER_AGE_AT_ISSUE', 'ADDITIONAL_MEMBERS', 'PAYMENT_MODE',\n",
       "       'AGENT_CODE', 'MEMBERSHIP_STATUS', 'START_DATE (YYYYMMDD)',\n",
       "       'END_DATE  (YYYYMMDD)'], dtype=object)"
      ]
     },
     "execution_count": 19,
     "metadata": {},
     "output_type": "execute_result"
    }
   ],
   "source": [
    "df1.head(3)\n",
    "df1.columns.values"
   ]
  },
  {
   "cell_type": "markdown",
   "metadata": {},
   "source": [
    "### Concatenating all the dummy variables created with the original dataset"
   ]
  },
  {
   "cell_type": "code",
   "execution_count": 20,
   "metadata": {},
   "outputs": [],
   "source": [
    "dataset_dumm = pd.concat([df1[['MEMBERSHIP_TERM_YEARS', 'ANNUAL_FEES','MEMBER_GENDER', 'MEMBER_ANNUAL_INCOME',\n",
    "                'MEMBER_OCCUPATION_CD','MEMBER_AGE_AT_ISSUE', 'ADDITIONAL_MEMBERS','AGENT_CODE', 'MEMBERSHIP_STATUS']]\n",
    "                        ,df_MEMBER_MARITAL_STATUS\n",
    "                        ,df_MEMBERSHIP_PACKAGE\n",
    "                        ,df_PAYMENT_MODE],axis=1)"
   ]
  },
  {
   "cell_type": "code",
   "execution_count": 21,
   "metadata": {},
   "outputs": [
    {
     "data": {
      "text/html": [
       "<div>\n",
       "<style scoped>\n",
       "    .dataframe tbody tr th:only-of-type {\n",
       "        vertical-align: middle;\n",
       "    }\n",
       "\n",
       "    .dataframe tbody tr th {\n",
       "        vertical-align: top;\n",
       "    }\n",
       "\n",
       "    .dataframe thead th {\n",
       "        text-align: right;\n",
       "    }\n",
       "</style>\n",
       "<table border=\"1\" class=\"dataframe\">\n",
       "  <thead>\n",
       "    <tr style=\"text-align: right;\">\n",
       "      <th></th>\n",
       "      <th>MEMBERSHIP_TERM_YEARS</th>\n",
       "      <th>ANNUAL_FEES</th>\n",
       "      <th>MEMBER_GENDER</th>\n",
       "      <th>MEMBER_ANNUAL_INCOME</th>\n",
       "      <th>MEMBER_OCCUPATION_CD</th>\n",
       "      <th>MEMBER_AGE_AT_ISSUE</th>\n",
       "      <th>ADDITIONAL_MEMBERS</th>\n",
       "      <th>AGENT_CODE</th>\n",
       "      <th>MEMBERSHIP_STATUS</th>\n",
       "      <th>MEMBER_MARITAL_STATUS_D</th>\n",
       "      <th>MEMBER_MARITAL_STATUS_M</th>\n",
       "      <th>MEMBER_MARITAL_STATUS_S</th>\n",
       "      <th>MEMBER_MARITAL_STATUS_W</th>\n",
       "      <th>MEMBERSHIP_PACKAGE_TYPE-A</th>\n",
       "      <th>MEMBERSHIP_PACKAGE_TYPE-B</th>\n",
       "      <th>PAYMENT_MODE_ANNUAL</th>\n",
       "      <th>PAYMENT_MODE_MONTHLY</th>\n",
       "      <th>PAYMENT_MODE_QUARTERLY</th>\n",
       "      <th>PAYMENT_MODE_SEMI-ANNUAL</th>\n",
       "      <th>PAYMENT_MODE_SINGLE-PREMIUM</th>\n",
       "    </tr>\n",
       "  </thead>\n",
       "  <tbody>\n",
       "    <tr>\n",
       "      <th>0</th>\n",
       "      <td>29</td>\n",
       "      <td>113125.0</td>\n",
       "      <td>0</td>\n",
       "      <td>25200000.0</td>\n",
       "      <td>1.0</td>\n",
       "      <td>45</td>\n",
       "      <td>2</td>\n",
       "      <td>477</td>\n",
       "      <td>0</td>\n",
       "      <td>0</td>\n",
       "      <td>1</td>\n",
       "      <td>0</td>\n",
       "      <td>0</td>\n",
       "      <td>0</td>\n",
       "      <td>1</td>\n",
       "      <td>1</td>\n",
       "      <td>0</td>\n",
       "      <td>0</td>\n",
       "      <td>0</td>\n",
       "      <td>0</td>\n",
       "    </tr>\n",
       "    <tr>\n",
       "      <th>1</th>\n",
       "      <td>38</td>\n",
       "      <td>112220.0</td>\n",
       "      <td>0</td>\n",
       "      <td>10339200.0</td>\n",
       "      <td>1.0</td>\n",
       "      <td>36</td>\n",
       "      <td>3</td>\n",
       "      <td>255</td>\n",
       "      <td>0</td>\n",
       "      <td>0</td>\n",
       "      <td>1</td>\n",
       "      <td>0</td>\n",
       "      <td>0</td>\n",
       "      <td>0</td>\n",
       "      <td>1</td>\n",
       "      <td>0</td>\n",
       "      <td>0</td>\n",
       "      <td>1</td>\n",
       "      <td>0</td>\n",
       "      <td>0</td>\n",
       "    </tr>\n",
       "    <tr>\n",
       "      <th>2</th>\n",
       "      <td>12</td>\n",
       "      <td>100000.0</td>\n",
       "      <td>0</td>\n",
       "      <td>14400000.0</td>\n",
       "      <td>1.0</td>\n",
       "      <td>42</td>\n",
       "      <td>1</td>\n",
       "      <td>7866</td>\n",
       "      <td>0</td>\n",
       "      <td>0</td>\n",
       "      <td>1</td>\n",
       "      <td>0</td>\n",
       "      <td>0</td>\n",
       "      <td>0</td>\n",
       "      <td>1</td>\n",
       "      <td>1</td>\n",
       "      <td>0</td>\n",
       "      <td>0</td>\n",
       "      <td>0</td>\n",
       "      <td>0</td>\n",
       "    </tr>\n",
       "    <tr>\n",
       "      <th>3</th>\n",
       "      <td>12</td>\n",
       "      <td>100000.0</td>\n",
       "      <td>0</td>\n",
       "      <td>9000000.0</td>\n",
       "      <td>1.0</td>\n",
       "      <td>39</td>\n",
       "      <td>2</td>\n",
       "      <td>200533</td>\n",
       "      <td>0</td>\n",
       "      <td>0</td>\n",
       "      <td>1</td>\n",
       "      <td>0</td>\n",
       "      <td>0</td>\n",
       "      <td>0</td>\n",
       "      <td>1</td>\n",
       "      <td>1</td>\n",
       "      <td>0</td>\n",
       "      <td>0</td>\n",
       "      <td>0</td>\n",
       "      <td>0</td>\n",
       "    </tr>\n",
       "    <tr>\n",
       "      <th>4</th>\n",
       "      <td>46</td>\n",
       "      <td>100000.0</td>\n",
       "      <td>0</td>\n",
       "      <td>4800000.0</td>\n",
       "      <td>1.0</td>\n",
       "      <td>27</td>\n",
       "      <td>2</td>\n",
       "      <td>6988</td>\n",
       "      <td>0</td>\n",
       "      <td>0</td>\n",
       "      <td>1</td>\n",
       "      <td>0</td>\n",
       "      <td>0</td>\n",
       "      <td>0</td>\n",
       "      <td>1</td>\n",
       "      <td>0</td>\n",
       "      <td>0</td>\n",
       "      <td>1</td>\n",
       "      <td>0</td>\n",
       "      <td>0</td>\n",
       "    </tr>\n",
       "  </tbody>\n",
       "</table>\n",
       "</div>"
      ],
      "text/plain": [
       "   MEMBERSHIP_TERM_YEARS  ANNUAL_FEES MEMBER_GENDER  MEMBER_ANNUAL_INCOME  \\\n",
       "0                     29     113125.0             0            25200000.0   \n",
       "1                     38     112220.0             0            10339200.0   \n",
       "2                     12     100000.0             0            14400000.0   \n",
       "3                     12     100000.0             0             9000000.0   \n",
       "4                     46     100000.0             0             4800000.0   \n",
       "\n",
       "   MEMBER_OCCUPATION_CD  MEMBER_AGE_AT_ISSUE  ADDITIONAL_MEMBERS AGENT_CODE  \\\n",
       "0                   1.0                   45                   2        477   \n",
       "1                   1.0                   36                   3        255   \n",
       "2                   1.0                   42                   1       7866   \n",
       "3                   1.0                   39                   2     200533   \n",
       "4                   1.0                   27                   2       6988   \n",
       "\n",
       "  MEMBERSHIP_STATUS  MEMBER_MARITAL_STATUS_D  MEMBER_MARITAL_STATUS_M  \\\n",
       "0                 0                        0                        1   \n",
       "1                 0                        0                        1   \n",
       "2                 0                        0                        1   \n",
       "3                 0                        0                        1   \n",
       "4                 0                        0                        1   \n",
       "\n",
       "   MEMBER_MARITAL_STATUS_S  MEMBER_MARITAL_STATUS_W  \\\n",
       "0                        0                        0   \n",
       "1                        0                        0   \n",
       "2                        0                        0   \n",
       "3                        0                        0   \n",
       "4                        0                        0   \n",
       "\n",
       "   MEMBERSHIP_PACKAGE_TYPE-A  MEMBERSHIP_PACKAGE_TYPE-B  PAYMENT_MODE_ANNUAL  \\\n",
       "0                          0                          1                    1   \n",
       "1                          0                          1                    0   \n",
       "2                          0                          1                    1   \n",
       "3                          0                          1                    1   \n",
       "4                          0                          1                    0   \n",
       "\n",
       "   PAYMENT_MODE_MONTHLY  PAYMENT_MODE_QUARTERLY  PAYMENT_MODE_SEMI-ANNUAL  \\\n",
       "0                     0                       0                         0   \n",
       "1                     0                       1                         0   \n",
       "2                     0                       0                         0   \n",
       "3                     0                       0                         0   \n",
       "4                     0                       1                         0   \n",
       "\n",
       "   PAYMENT_MODE_SINGLE-PREMIUM  \n",
       "0                            0  \n",
       "1                            0  \n",
       "2                            0  \n",
       "3                            0  \n",
       "4                            0  "
      ]
     },
     "execution_count": 21,
     "metadata": {},
     "output_type": "execute_result"
    }
   ],
   "source": [
    "dataset_dumm.head()"
   ]
  },
  {
   "cell_type": "markdown",
   "metadata": {},
   "source": [
    "### Removing unwanted row from the dataset under the Agent_code column"
   ]
  },
  {
   "cell_type": "code",
   "execution_count": 22,
   "metadata": {},
   "outputs": [],
   "source": [
    "## Error Unable to parse string \"..\" at position 10291\n",
    "\n",
    "dataset_dumm = dataset_dumm[dataset_dumm.AGENT_CODE != '..']"
   ]
  },
  {
   "cell_type": "markdown",
   "metadata": {},
   "source": [
    "### Converting categorical data to numeric"
   ]
  },
  {
   "cell_type": "code",
   "execution_count": 23,
   "metadata": {},
   "outputs": [],
   "source": [
    "dataset_dumm['MEMBER_GENDER'] = pd.to_numeric(dataset_dumm['MEMBER_GENDER'])\n",
    "dataset_dumm['AGENT_CODE'] = pd.to_numeric(dataset_dumm['AGENT_CODE'])\n",
    "dataset_dumm['MEMBERSHIP_STATUS'] = pd.to_numeric(dataset_dumm['MEMBERSHIP_STATUS'])\n",
    "dataset_dumm['MEMBER_ANNUAL_INCOME'] = pd.to_numeric(dataset_dumm['MEMBER_ANNUAL_INCOME'])"
   ]
  },
  {
   "cell_type": "code",
   "execution_count": 24,
   "metadata": {},
   "outputs": [
    {
     "data": {
      "image/png": "[encoded data removed]",
      "text/plain": [
       "<Figure size 1152x1152 with 2 Axes>"
      ]
     },
     "metadata": {
      "needs_background": "light"
     },
     "output_type": "display_data"
    }
   ],
   "source": [
    "#checking correlation\n",
    "\n",
    "corr = dataset_dumm.corr()\n",
    "fig = plt.figure(figsize=(16,16))\n",
    "ax = fig.add_subplot(111)\n",
    "cax = ax.matshow(corr,cmap='magma', vmin=-1, vmax=1)\n",
    "fig.colorbar(cax)\n",
    "ticks = np.arange(0,len(dataset_dumm.columns),1)\n",
    "ax.set_xticks(ticks)\n",
    "plt.xticks(rotation=90)\n",
    "ax.set_yticks(ticks)\n",
    "ax.set_xticklabels(dataset_dumm.columns)\n",
    "ax.set_yticklabels(dataset_dumm.columns)\n",
    "plt.show()"
   ]
  },
  {
   "cell_type": "code",
   "execution_count": 25,
   "metadata": {},
   "outputs": [
    {
     "data": {
      "text/html": [
       "<div>\n",
       "<style scoped>\n",
       "    .dataframe tbody tr th:only-of-type {\n",
       "        vertical-align: middle;\n",
       "    }\n",
       "\n",
       "    .dataframe tbody tr th {\n",
       "        vertical-align: top;\n",
       "    }\n",
       "\n",
       "    .dataframe thead th {\n",
       "        text-align: right;\n",
       "    }\n",
       "</style>\n",
       "<table border=\"1\" class=\"dataframe\">\n",
       "  <thead>\n",
       "    <tr style=\"text-align: right;\">\n",
       "      <th></th>\n",
       "      <th>MEMBERSHIP_TERM_YEARS</th>\n",
       "      <th>ANNUAL_FEES</th>\n",
       "      <th>MEMBER_GENDER</th>\n",
       "      <th>MEMBER_ANNUAL_INCOME</th>\n",
       "      <th>MEMBER_OCCUPATION_CD</th>\n",
       "      <th>MEMBER_AGE_AT_ISSUE</th>\n",
       "      <th>ADDITIONAL_MEMBERS</th>\n",
       "      <th>AGENT_CODE</th>\n",
       "      <th>MEMBERSHIP_STATUS</th>\n",
       "      <th>MEMBER_MARITAL_STATUS_D</th>\n",
       "      <th>MEMBER_MARITAL_STATUS_M</th>\n",
       "      <th>MEMBER_MARITAL_STATUS_S</th>\n",
       "      <th>MEMBER_MARITAL_STATUS_W</th>\n",
       "      <th>MEMBERSHIP_PACKAGE_TYPE-A</th>\n",
       "      <th>MEMBERSHIP_PACKAGE_TYPE-B</th>\n",
       "      <th>PAYMENT_MODE_ANNUAL</th>\n",
       "      <th>PAYMENT_MODE_MONTHLY</th>\n",
       "      <th>PAYMENT_MODE_QUARTERLY</th>\n",
       "      <th>PAYMENT_MODE_SEMI-ANNUAL</th>\n",
       "      <th>PAYMENT_MODE_SINGLE-PREMIUM</th>\n",
       "    </tr>\n",
       "  </thead>\n",
       "  <tbody>\n",
       "    <tr>\n",
       "      <th>MEMBERSHIP_TERM_YEARS</th>\n",
       "      <td>1.000000</td>\n",
       "      <td>-0.003668</td>\n",
       "      <td>-0.034527</td>\n",
       "      <td>0.024221</td>\n",
       "      <td>-0.002890</td>\n",
       "      <td>-0.017331</td>\n",
       "      <td>-0.215891</td>\n",
       "      <td>0.191207</td>\n",
       "      <td>-0.042020</td>\n",
       "      <td>-0.013272</td>\n",
       "      <td>0.039399</td>\n",
       "      <td>-0.028749</td>\n",
       "      <td>-0.028142</td>\n",
       "      <td>0.345700</td>\n",
       "      <td>-0.345700</td>\n",
       "      <td>0.070259</td>\n",
       "      <td>-0.071019</td>\n",
       "      <td>-0.003286</td>\n",
       "      <td>-0.017325</td>\n",
       "      <td>0.009413</td>\n",
       "    </tr>\n",
       "    <tr>\n",
       "      <th>ANNUAL_FEES</th>\n",
       "      <td>-0.003668</td>\n",
       "      <td>1.000000</td>\n",
       "      <td>-0.013471</td>\n",
       "      <td>0.051223</td>\n",
       "      <td>-0.025306</td>\n",
       "      <td>0.021185</td>\n",
       "      <td>0.013317</td>\n",
       "      <td>0.068897</td>\n",
       "      <td>0.028803</td>\n",
       "      <td>-0.003136</td>\n",
       "      <td>0.027965</td>\n",
       "      <td>-0.024791</td>\n",
       "      <td>-0.011820</td>\n",
       "      <td>-0.030913</td>\n",
       "      <td>0.030913</td>\n",
       "      <td>0.031505</td>\n",
       "      <td>-0.013746</td>\n",
       "      <td>-0.023511</td>\n",
       "      <td>-0.027798</td>\n",
       "      <td>0.148540</td>\n",
       "    </tr>\n",
       "    <tr>\n",
       "      <th>MEMBER_GENDER</th>\n",
       "      <td>-0.034527</td>\n",
       "      <td>-0.013471</td>\n",
       "      <td>1.000000</td>\n",
       "      <td>-0.022537</td>\n",
       "      <td>0.033399</td>\n",
       "      <td>0.002310</td>\n",
       "      <td>-0.019790</td>\n",
       "      <td>-0.004994</td>\n",
       "      <td>-0.031810</td>\n",
       "      <td>0.064138</td>\n",
       "      <td>-0.047107</td>\n",
       "      <td>-0.025622</td>\n",
       "      <td>0.166245</td>\n",
       "      <td>0.048716</td>\n",
       "      <td>-0.048716</td>\n",
       "      <td>0.015290</td>\n",
       "      <td>0.007491</td>\n",
       "      <td>-0.008500</td>\n",
       "      <td>-0.023850</td>\n",
       "      <td>-0.008534</td>\n",
       "    </tr>\n",
       "    <tr>\n",
       "      <th>MEMBER_ANNUAL_INCOME</th>\n",
       "      <td>0.024221</td>\n",
       "      <td>0.051223</td>\n",
       "      <td>-0.022537</td>\n",
       "      <td>1.000000</td>\n",
       "      <td>-0.013926</td>\n",
       "      <td>-0.045190</td>\n",
       "      <td>0.007104</td>\n",
       "      <td>0.031154</td>\n",
       "      <td>-0.012874</td>\n",
       "      <td>-0.000979</td>\n",
       "      <td>0.007448</td>\n",
       "      <td>-0.006481</td>\n",
       "      <td>-0.003393</td>\n",
       "      <td>0.014064</td>\n",
       "      <td>-0.014064</td>\n",
       "      <td>-0.004560</td>\n",
       "      <td>-0.014460</td>\n",
       "      <td>-0.007249</td>\n",
       "      <td>0.026042</td>\n",
       "      <td>0.000077</td>\n",
       "    </tr>\n",
       "    <tr>\n",
       "      <th>MEMBER_OCCUPATION_CD</th>\n",
       "      <td>-0.002890</td>\n",
       "      <td>-0.025306</td>\n",
       "      <td>0.033399</td>\n",
       "      <td>-0.013926</td>\n",
       "      <td>1.000000</td>\n",
       "      <td>0.342539</td>\n",
       "      <td>-0.013142</td>\n",
       "      <td>0.033967</td>\n",
       "      <td>-0.066583</td>\n",
       "      <td>-0.015026</td>\n",
       "      <td>0.064145</td>\n",
       "      <td>-0.075522</td>\n",
       "      <td>0.026865</td>\n",
       "      <td>0.147084</td>\n",
       "      <td>-0.147084</td>\n",
       "      <td>0.017193</td>\n",
       "      <td>-0.030154</td>\n",
       "      <td>0.001350</td>\n",
       "      <td>0.009068</td>\n",
       "      <td>-0.003097</td>\n",
       "    </tr>\n",
       "    <tr>\n",
       "      <th>MEMBER_AGE_AT_ISSUE</th>\n",
       "      <td>-0.017331</td>\n",
       "      <td>0.021185</td>\n",
       "      <td>0.002310</td>\n",
       "      <td>-0.045190</td>\n",
       "      <td>0.342539</td>\n",
       "      <td>1.000000</td>\n",
       "      <td>0.060077</td>\n",
       "      <td>0.009473</td>\n",
       "      <td>-0.091066</td>\n",
       "      <td>-0.001579</td>\n",
       "      <td>0.345799</td>\n",
       "      <td>-0.396285</td>\n",
       "      <td>0.071672</td>\n",
       "      <td>0.148652</td>\n",
       "      <td>-0.148652</td>\n",
       "      <td>0.045754</td>\n",
       "      <td>-0.050117</td>\n",
       "      <td>0.001549</td>\n",
       "      <td>-0.010297</td>\n",
       "      <td>0.021172</td>\n",
       "    </tr>\n",
       "    <tr>\n",
       "      <th>ADDITIONAL_MEMBERS</th>\n",
       "      <td>-0.215891</td>\n",
       "      <td>0.013317</td>\n",
       "      <td>-0.019790</td>\n",
       "      <td>0.007104</td>\n",
       "      <td>-0.013142</td>\n",
       "      <td>0.060077</td>\n",
       "      <td>1.000000</td>\n",
       "      <td>-0.078540</td>\n",
       "      <td>-0.018574</td>\n",
       "      <td>-0.081453</td>\n",
       "      <td>0.474295</td>\n",
       "      <td>-0.434484</td>\n",
       "      <td>-0.147439</td>\n",
       "      <td>-0.114694</td>\n",
       "      <td>0.114694</td>\n",
       "      <td>-0.030140</td>\n",
       "      <td>0.009577</td>\n",
       "      <td>0.017836</td>\n",
       "      <td>0.019850</td>\n",
       "      <td>0.015138</td>\n",
       "    </tr>\n",
       "    <tr>\n",
       "      <th>AGENT_CODE</th>\n",
       "      <td>0.191207</td>\n",
       "      <td>0.068897</td>\n",
       "      <td>-0.004994</td>\n",
       "      <td>0.031154</td>\n",
       "      <td>0.033967</td>\n",
       "      <td>0.009473</td>\n",
       "      <td>-0.078540</td>\n",
       "      <td>1.000000</td>\n",
       "      <td>0.008635</td>\n",
       "      <td>-0.001315</td>\n",
       "      <td>0.030467</td>\n",
       "      <td>-0.026728</td>\n",
       "      <td>-0.014798</td>\n",
       "      <td>0.254039</td>\n",
       "      <td>-0.254039</td>\n",
       "      <td>0.193500</td>\n",
       "      <td>-0.118245</td>\n",
       "      <td>-0.110722</td>\n",
       "      <td>-0.074397</td>\n",
       "      <td>-0.011196</td>\n",
       "    </tr>\n",
       "    <tr>\n",
       "      <th>MEMBERSHIP_STATUS</th>\n",
       "      <td>-0.042020</td>\n",
       "      <td>0.028803</td>\n",
       "      <td>-0.031810</td>\n",
       "      <td>-0.012874</td>\n",
       "      <td>-0.066583</td>\n",
       "      <td>-0.091066</td>\n",
       "      <td>-0.018574</td>\n",
       "      <td>0.008635</td>\n",
       "      <td>1.000000</td>\n",
       "      <td>-0.014848</td>\n",
       "      <td>-0.037618</td>\n",
       "      <td>0.049552</td>\n",
       "      <td>-0.016546</td>\n",
       "      <td>-0.215190</td>\n",
       "      <td>0.215190</td>\n",
       "      <td>-0.044270</td>\n",
       "      <td>-0.004684</td>\n",
       "      <td>0.039374</td>\n",
       "      <td>0.046093</td>\n",
       "      <td>-0.019457</td>\n",
       "    </tr>\n",
       "    <tr>\n",
       "      <th>MEMBER_MARITAL_STATUS_D</th>\n",
       "      <td>-0.013272</td>\n",
       "      <td>-0.003136</td>\n",
       "      <td>0.064138</td>\n",
       "      <td>-0.000979</td>\n",
       "      <td>-0.015026</td>\n",
       "      <td>-0.001579</td>\n",
       "      <td>-0.081453</td>\n",
       "      <td>-0.001315</td>\n",
       "      <td>-0.014848</td>\n",
       "      <td>1.000000</td>\n",
       "      <td>-0.171735</td>\n",
       "      <td>-0.023269</td>\n",
       "      <td>-0.007896</td>\n",
       "      <td>0.020324</td>\n",
       "      <td>-0.020324</td>\n",
       "      <td>-0.001870</td>\n",
       "      <td>0.018392</td>\n",
       "      <td>-0.013062</td>\n",
       "      <td>-0.010383</td>\n",
       "      <td>-0.001947</td>\n",
       "    </tr>\n",
       "    <tr>\n",
       "      <th>MEMBER_MARITAL_STATUS_M</th>\n",
       "      <td>0.039399</td>\n",
       "      <td>0.027965</td>\n",
       "      <td>-0.047107</td>\n",
       "      <td>0.007448</td>\n",
       "      <td>0.064145</td>\n",
       "      <td>0.345799</td>\n",
       "      <td>0.474295</td>\n",
       "      <td>0.030467</td>\n",
       "      <td>-0.037618</td>\n",
       "      <td>-0.171735</td>\n",
       "      <td>1.000000</td>\n",
       "      <td>-0.916063</td>\n",
       "      <td>-0.310860</td>\n",
       "      <td>0.082949</td>\n",
       "      <td>-0.082949</td>\n",
       "      <td>0.037031</td>\n",
       "      <td>-0.040832</td>\n",
       "      <td>-0.010215</td>\n",
       "      <td>-0.000516</td>\n",
       "      <td>0.001561</td>\n",
       "    </tr>\n",
       "    <tr>\n",
       "      <th>MEMBER_MARITAL_STATUS_S</th>\n",
       "      <td>-0.028749</td>\n",
       "      <td>-0.024791</td>\n",
       "      <td>-0.025622</td>\n",
       "      <td>-0.006481</td>\n",
       "      <td>-0.075522</td>\n",
       "      <td>-0.396285</td>\n",
       "      <td>-0.434484</td>\n",
       "      <td>-0.026728</td>\n",
       "      <td>0.049552</td>\n",
       "      <td>-0.023269</td>\n",
       "      <td>-0.916063</td>\n",
       "      <td>1.000000</td>\n",
       "      <td>-0.042119</td>\n",
       "      <td>-0.084469</td>\n",
       "      <td>0.084469</td>\n",
       "      <td>-0.040580</td>\n",
       "      <td>0.040194</td>\n",
       "      <td>0.017699</td>\n",
       "      <td>0.001887</td>\n",
       "      <td>0.000066</td>\n",
       "    </tr>\n",
       "    <tr>\n",
       "      <th>MEMBER_MARITAL_STATUS_W</th>\n",
       "      <td>-0.028142</td>\n",
       "      <td>-0.011820</td>\n",
       "      <td>0.166245</td>\n",
       "      <td>-0.003393</td>\n",
       "      <td>0.026865</td>\n",
       "      <td>0.071672</td>\n",
       "      <td>-0.147439</td>\n",
       "      <td>-0.014798</td>\n",
       "      <td>-0.016546</td>\n",
       "      <td>-0.007896</td>\n",
       "      <td>-0.310860</td>\n",
       "      <td>-0.042119</td>\n",
       "      <td>1.000000</td>\n",
       "      <td>-0.022517</td>\n",
       "      <td>0.022517</td>\n",
       "      <td>0.003687</td>\n",
       "      <td>-0.001074</td>\n",
       "      <td>-0.010737</td>\n",
       "      <td>0.002242</td>\n",
       "      <td>-0.003525</td>\n",
       "    </tr>\n",
       "    <tr>\n",
       "      <th>MEMBERSHIP_PACKAGE_TYPE-A</th>\n",
       "      <td>0.345700</td>\n",
       "      <td>-0.030913</td>\n",
       "      <td>0.048716</td>\n",
       "      <td>0.014064</td>\n",
       "      <td>0.147084</td>\n",
       "      <td>0.148652</td>\n",
       "      <td>-0.114694</td>\n",
       "      <td>0.254039</td>\n",
       "      <td>-0.215190</td>\n",
       "      <td>0.020324</td>\n",
       "      <td>0.082949</td>\n",
       "      <td>-0.084469</td>\n",
       "      <td>-0.022517</td>\n",
       "      <td>1.000000</td>\n",
       "      <td>-1.000000</td>\n",
       "      <td>-0.057692</td>\n",
       "      <td>0.135648</td>\n",
       "      <td>-0.022117</td>\n",
       "      <td>-0.056069</td>\n",
       "      <td>-0.021296</td>\n",
       "    </tr>\n",
       "    <tr>\n",
       "      <th>MEMBERSHIP_PACKAGE_TYPE-B</th>\n",
       "      <td>-0.345700</td>\n",
       "      <td>0.030913</td>\n",
       "      <td>-0.048716</td>\n",
       "      <td>-0.014064</td>\n",
       "      <td>-0.147084</td>\n",
       "      <td>-0.148652</td>\n",
       "      <td>0.114694</td>\n",
       "      <td>-0.254039</td>\n",
       "      <td>0.215190</td>\n",
       "      <td>-0.020324</td>\n",
       "      <td>-0.082949</td>\n",
       "      <td>0.084469</td>\n",
       "      <td>0.022517</td>\n",
       "      <td>-1.000000</td>\n",
       "      <td>1.000000</td>\n",
       "      <td>0.057692</td>\n",
       "      <td>-0.135648</td>\n",
       "      <td>0.022117</td>\n",
       "      <td>0.056069</td>\n",
       "      <td>0.021296</td>\n",
       "    </tr>\n",
       "    <tr>\n",
       "      <th>PAYMENT_MODE_ANNUAL</th>\n",
       "      <td>0.070259</td>\n",
       "      <td>0.031505</td>\n",
       "      <td>0.015290</td>\n",
       "      <td>-0.004560</td>\n",
       "      <td>0.017193</td>\n",
       "      <td>0.045754</td>\n",
       "      <td>-0.030140</td>\n",
       "      <td>0.193500</td>\n",
       "      <td>-0.044270</td>\n",
       "      <td>-0.001870</td>\n",
       "      <td>0.037031</td>\n",
       "      <td>-0.040580</td>\n",
       "      <td>0.003687</td>\n",
       "      <td>-0.057692</td>\n",
       "      <td>0.057692</td>\n",
       "      <td>1.000000</td>\n",
       "      <td>-0.622343</td>\n",
       "      <td>-0.261334</td>\n",
       "      <td>-0.542189</td>\n",
       "      <td>-0.038962</td>\n",
       "    </tr>\n",
       "    <tr>\n",
       "      <th>PAYMENT_MODE_MONTHLY</th>\n",
       "      <td>-0.071019</td>\n",
       "      <td>-0.013746</td>\n",
       "      <td>0.007491</td>\n",
       "      <td>-0.014460</td>\n",
       "      <td>-0.030154</td>\n",
       "      <td>-0.050117</td>\n",
       "      <td>0.009577</td>\n",
       "      <td>-0.118245</td>\n",
       "      <td>-0.004684</td>\n",
       "      <td>0.018392</td>\n",
       "      <td>-0.040832</td>\n",
       "      <td>0.040194</td>\n",
       "      <td>-0.001074</td>\n",
       "      <td>0.135648</td>\n",
       "      <td>-0.135648</td>\n",
       "      <td>-0.622343</td>\n",
       "      <td>1.000000</td>\n",
       "      <td>-0.093145</td>\n",
       "      <td>-0.193247</td>\n",
       "      <td>-0.013887</td>\n",
       "    </tr>\n",
       "    <tr>\n",
       "      <th>PAYMENT_MODE_QUARTERLY</th>\n",
       "      <td>-0.003286</td>\n",
       "      <td>-0.023511</td>\n",
       "      <td>-0.008500</td>\n",
       "      <td>-0.007249</td>\n",
       "      <td>0.001350</td>\n",
       "      <td>0.001549</td>\n",
       "      <td>0.017836</td>\n",
       "      <td>-0.110722</td>\n",
       "      <td>0.039374</td>\n",
       "      <td>-0.013062</td>\n",
       "      <td>-0.010215</td>\n",
       "      <td>0.017699</td>\n",
       "      <td>-0.010737</td>\n",
       "      <td>-0.022117</td>\n",
       "      <td>0.022117</td>\n",
       "      <td>-0.261334</td>\n",
       "      <td>-0.093145</td>\n",
       "      <td>1.000000</td>\n",
       "      <td>-0.081148</td>\n",
       "      <td>-0.005831</td>\n",
       "    </tr>\n",
       "    <tr>\n",
       "      <th>PAYMENT_MODE_SEMI-ANNUAL</th>\n",
       "      <td>-0.017325</td>\n",
       "      <td>-0.027798</td>\n",
       "      <td>-0.023850</td>\n",
       "      <td>0.026042</td>\n",
       "      <td>0.009068</td>\n",
       "      <td>-0.010297</td>\n",
       "      <td>0.019850</td>\n",
       "      <td>-0.074397</td>\n",
       "      <td>0.046093</td>\n",
       "      <td>-0.010383</td>\n",
       "      <td>-0.000516</td>\n",
       "      <td>0.001887</td>\n",
       "      <td>0.002242</td>\n",
       "      <td>-0.056069</td>\n",
       "      <td>0.056069</td>\n",
       "      <td>-0.542189</td>\n",
       "      <td>-0.193247</td>\n",
       "      <td>-0.081148</td>\n",
       "      <td>1.000000</td>\n",
       "      <td>-0.012098</td>\n",
       "    </tr>\n",
       "    <tr>\n",
       "      <th>PAYMENT_MODE_SINGLE-PREMIUM</th>\n",
       "      <td>0.009413</td>\n",
       "      <td>0.148540</td>\n",
       "      <td>-0.008534</td>\n",
       "      <td>0.000077</td>\n",
       "      <td>-0.003097</td>\n",
       "      <td>0.021172</td>\n",
       "      <td>0.015138</td>\n",
       "      <td>-0.011196</td>\n",
       "      <td>-0.019457</td>\n",
       "      <td>-0.001947</td>\n",
       "      <td>0.001561</td>\n",
       "      <td>0.000066</td>\n",
       "      <td>-0.003525</td>\n",
       "      <td>-0.021296</td>\n",
       "      <td>0.021296</td>\n",
       "      <td>-0.038962</td>\n",
       "      <td>-0.013887</td>\n",
       "      <td>-0.005831</td>\n",
       "      <td>-0.012098</td>\n",
       "      <td>1.000000</td>\n",
       "    </tr>\n",
       "  </tbody>\n",
       "</table>\n",
       "</div>"
      ],
      "text/plain": [
       "                             MEMBERSHIP_TERM_YEARS  ANNUAL_FEES  \\\n",
       "MEMBERSHIP_TERM_YEARS                     1.000000    -0.003668   \n",
       "ANNUAL_FEES                              -0.003668     1.000000   \n",
       "MEMBER_GENDER                            -0.034527    -0.013471   \n",
       "MEMBER_ANNUAL_INCOME                      0.024221     0.051223   \n",
       "MEMBER_OCCUPATION_CD                     -0.002890    -0.025306   \n",
       "MEMBER_AGE_AT_ISSUE                      -0.017331     0.021185   \n",
       "ADDITIONAL_MEMBERS                       -0.215891     0.013317   \n",
       "AGENT_CODE                                0.191207     0.068897   \n",
       "MEMBERSHIP_STATUS                        -0.042020     0.028803   \n",
       "MEMBER_MARITAL_STATUS_D                  -0.013272    -0.003136   \n",
       "MEMBER_MARITAL_STATUS_M                   0.039399     0.027965   \n",
       "MEMBER_MARITAL_STATUS_S                  -0.028749    -0.024791   \n",
       "MEMBER_MARITAL_STATUS_W                  -0.028142    -0.011820   \n",
       "MEMBERSHIP_PACKAGE_TYPE-A                 0.345700    -0.030913   \n",
       "MEMBERSHIP_PACKAGE_TYPE-B                -0.345700     0.030913   \n",
       "PAYMENT_MODE_ANNUAL                       0.070259     0.031505   \n",
       "PAYMENT_MODE_MONTHLY                     -0.071019    -0.013746   \n",
       "PAYMENT_MODE_QUARTERLY                   -0.003286    -0.023511   \n",
       "PAYMENT_MODE_SEMI-ANNUAL                 -0.017325    -0.027798   \n",
       "PAYMENT_MODE_SINGLE-PREMIUM               0.009413     0.148540   \n",
       "\n",
       "                             MEMBER_GENDER  MEMBER_ANNUAL_INCOME  \\\n",
       "MEMBERSHIP_TERM_YEARS            -0.034527              0.024221   \n",
       "ANNUAL_FEES                      -0.013471              0.051223   \n",
       "MEMBER_GENDER                     1.000000             -0.022537   \n",
       "MEMBER_ANNUAL_INCOME             -0.022537              1.000000   \n",
       "MEMBER_OCCUPATION_CD              0.033399             -0.013926   \n",
       "MEMBER_AGE_AT_ISSUE               0.002310             -0.045190   \n",
       "ADDITIONAL_MEMBERS               -0.019790              0.007104   \n",
       "AGENT_CODE                       -0.004994              0.031154   \n",
       "MEMBERSHIP_STATUS                -0.031810             -0.012874   \n",
       "MEMBER_MARITAL_STATUS_D           0.064138             -0.000979   \n",
       "MEMBER_MARITAL_STATUS_M          -0.047107              0.007448   \n",
       "MEMBER_MARITAL_STATUS_S          -0.025622             -0.006481   \n",
       "MEMBER_MARITAL_STATUS_W           0.166245             -0.003393   \n",
       "MEMBERSHIP_PACKAGE_TYPE-A         0.048716              0.014064   \n",
       "MEMBERSHIP_PACKAGE_TYPE-B        -0.048716             -0.014064   \n",
       "PAYMENT_MODE_ANNUAL               0.015290             -0.004560   \n",
       "PAYMENT_MODE_MONTHLY              0.007491             -0.014460   \n",
       "PAYMENT_MODE_QUARTERLY           -0.008500             -0.007249   \n",
       "PAYMENT_MODE_SEMI-ANNUAL         -0.023850              0.026042   \n",
       "PAYMENT_MODE_SINGLE-PREMIUM      -0.008534              0.000077   \n",
       "\n",
       "                             MEMBER_OCCUPATION_CD  MEMBER_AGE_AT_ISSUE  \\\n",
       "MEMBERSHIP_TERM_YEARS                   -0.002890            -0.017331   \n",
       "ANNUAL_FEES                             -0.025306             0.021185   \n",
       "MEMBER_GENDER                            0.033399             0.002310   \n",
       "MEMBER_ANNUAL_INCOME                    -0.013926            -0.045190   \n",
       "MEMBER_OCCUPATION_CD                     1.000000             0.342539   \n",
       "MEMBER_AGE_AT_ISSUE                      0.342539             1.000000   \n",
       "ADDITIONAL_MEMBERS                      -0.013142             0.060077   \n",
       "AGENT_CODE                               0.033967             0.009473   \n",
       "MEMBERSHIP_STATUS                       -0.066583            -0.091066   \n",
       "MEMBER_MARITAL_STATUS_D                 -0.015026            -0.001579   \n",
       "MEMBER_MARITAL_STATUS_M                  0.064145             0.345799   \n",
       "MEMBER_MARITAL_STATUS_S                 -0.075522            -0.396285   \n",
       "MEMBER_MARITAL_STATUS_W                  0.026865             0.071672   \n",
       "MEMBERSHIP_PACKAGE_TYPE-A                0.147084             0.148652   \n",
       "MEMBERSHIP_PACKAGE_TYPE-B               -0.147084            -0.148652   \n",
       "PAYMENT_MODE_ANNUAL                      0.017193             0.045754   \n",
       "PAYMENT_MODE_MONTHLY                    -0.030154            -0.050117   \n",
       "PAYMENT_MODE_QUARTERLY                   0.001350             0.001549   \n",
       "PAYMENT_MODE_SEMI-ANNUAL                 0.009068            -0.010297   \n",
       "PAYMENT_MODE_SINGLE-PREMIUM             -0.003097             0.021172   \n",
       "\n",
       "                             ADDITIONAL_MEMBERS  AGENT_CODE  \\\n",
       "MEMBERSHIP_TERM_YEARS                 -0.215891    0.191207   \n",
       "ANNUAL_FEES                            0.013317    0.068897   \n",
       "MEMBER_GENDER                         -0.019790   -0.004994   \n",
       "MEMBER_ANNUAL_INCOME                   0.007104    0.031154   \n",
       "MEMBER_OCCUPATION_CD                  -0.013142    0.033967   \n",
       "MEMBER_AGE_AT_ISSUE                    0.060077    0.009473   \n",
       "ADDITIONAL_MEMBERS                     1.000000   -0.078540   \n",
       "AGENT_CODE                            -0.078540    1.000000   \n",
       "MEMBERSHIP_STATUS                     -0.018574    0.008635   \n",
       "MEMBER_MARITAL_STATUS_D               -0.081453   -0.001315   \n",
       "MEMBER_MARITAL_STATUS_M                0.474295    0.030467   \n",
       "MEMBER_MARITAL_STATUS_S               -0.434484   -0.026728   \n",
       "MEMBER_MARITAL_STATUS_W               -0.147439   -0.014798   \n",
       "MEMBERSHIP_PACKAGE_TYPE-A             -0.114694    0.254039   \n",
       "MEMBERSHIP_PACKAGE_TYPE-B              0.114694   -0.254039   \n",
       "PAYMENT_MODE_ANNUAL                   -0.030140    0.193500   \n",
       "PAYMENT_MODE_MONTHLY                   0.009577   -0.118245   \n",
       "PAYMENT_MODE_QUARTERLY                 0.017836   -0.110722   \n",
       "PAYMENT_MODE_SEMI-ANNUAL               0.019850   -0.074397   \n",
       "PAYMENT_MODE_SINGLE-PREMIUM            0.015138   -0.011196   \n",
       "\n",
       "                             MEMBERSHIP_STATUS  MEMBER_MARITAL_STATUS_D  \\\n",
       "MEMBERSHIP_TERM_YEARS                -0.042020                -0.013272   \n",
       "ANNUAL_FEES                           0.028803                -0.003136   \n",
       "MEMBER_GENDER                        -0.031810                 0.064138   \n",
       "MEMBER_ANNUAL_INCOME                 -0.012874                -0.000979   \n",
       "MEMBER_OCCUPATION_CD                 -0.066583                -0.015026   \n",
       "MEMBER_AGE_AT_ISSUE                  -0.091066                -0.001579   \n",
       "ADDITIONAL_MEMBERS                   -0.018574                -0.081453   \n",
       "AGENT_CODE                            0.008635                -0.001315   \n",
       "MEMBERSHIP_STATUS                     1.000000                -0.014848   \n",
       "MEMBER_MARITAL_STATUS_D              -0.014848                 1.000000   \n",
       "MEMBER_MARITAL_STATUS_M              -0.037618                -0.171735   \n",
       "MEMBER_MARITAL_STATUS_S               0.049552                -0.023269   \n",
       "MEMBER_MARITAL_STATUS_W              -0.016546                -0.007896   \n",
       "MEMBERSHIP_PACKAGE_TYPE-A            -0.215190                 0.020324   \n",
       "MEMBERSHIP_PACKAGE_TYPE-B             0.215190                -0.020324   \n",
       "PAYMENT_MODE_ANNUAL                  -0.044270                -0.001870   \n",
       "PAYMENT_MODE_MONTHLY                 -0.004684                 0.018392   \n",
       "PAYMENT_MODE_QUARTERLY                0.039374                -0.013062   \n",
       "PAYMENT_MODE_SEMI-ANNUAL              0.046093                -0.010383   \n",
       "PAYMENT_MODE_SINGLE-PREMIUM          -0.019457                -0.001947   \n",
       "\n",
       "                             MEMBER_MARITAL_STATUS_M  MEMBER_MARITAL_STATUS_S  \\\n",
       "MEMBERSHIP_TERM_YEARS                       0.039399                -0.028749   \n",
       "ANNUAL_FEES                                 0.027965                -0.024791   \n",
       "MEMBER_GENDER                              -0.047107                -0.025622   \n",
       "MEMBER_ANNUAL_INCOME                        0.007448                -0.006481   \n",
       "MEMBER_OCCUPATION_CD                        0.064145                -0.075522   \n",
       "MEMBER_AGE_AT_ISSUE                         0.345799                -0.396285   \n",
       "ADDITIONAL_MEMBERS                          0.474295                -0.434484   \n",
       "AGENT_CODE                                  0.030467                -0.026728   \n",
       "MEMBERSHIP_STATUS                          -0.037618                 0.049552   \n",
       "MEMBER_MARITAL_STATUS_D                    -0.171735                -0.023269   \n",
       "MEMBER_MARITAL_STATUS_M                     1.000000                -0.916063   \n",
       "MEMBER_MARITAL_STATUS_S                    -0.916063                 1.000000   \n",
       "MEMBER_MARITAL_STATUS_W                    -0.310860                -0.042119   \n",
       "MEMBERSHIP_PACKAGE_TYPE-A                   0.082949                -0.084469   \n",
       "MEMBERSHIP_PACKAGE_TYPE-B                  -0.082949                 0.084469   \n",
       "PAYMENT_MODE_ANNUAL                         0.037031                -0.040580   \n",
       "PAYMENT_MODE_MONTHLY                       -0.040832                 0.040194   \n",
       "PAYMENT_MODE_QUARTERLY                     -0.010215                 0.017699   \n",
       "PAYMENT_MODE_SEMI-ANNUAL                   -0.000516                 0.001887   \n",
       "PAYMENT_MODE_SINGLE-PREMIUM                 0.001561                 0.000066   \n",
       "\n",
       "                             MEMBER_MARITAL_STATUS_W  \\\n",
       "MEMBERSHIP_TERM_YEARS                      -0.028142   \n",
       "ANNUAL_FEES                                -0.011820   \n",
       "MEMBER_GENDER                               0.166245   \n",
       "MEMBER_ANNUAL_INCOME                       -0.003393   \n",
       "MEMBER_OCCUPATION_CD                        0.026865   \n",
       "MEMBER_AGE_AT_ISSUE                         0.071672   \n",
       "ADDITIONAL_MEMBERS                         -0.147439   \n",
       "AGENT_CODE                                 -0.014798   \n",
       "MEMBERSHIP_STATUS                          -0.016546   \n",
       "MEMBER_MARITAL_STATUS_D                    -0.007896   \n",
       "MEMBER_MARITAL_STATUS_M                    -0.310860   \n",
       "MEMBER_MARITAL_STATUS_S                    -0.042119   \n",
       "MEMBER_MARITAL_STATUS_W                     1.000000   \n",
       "MEMBERSHIP_PACKAGE_TYPE-A                  -0.022517   \n",
       "MEMBERSHIP_PACKAGE_TYPE-B                   0.022517   \n",
       "PAYMENT_MODE_ANNUAL                         0.003687   \n",
       "PAYMENT_MODE_MONTHLY                       -0.001074   \n",
       "PAYMENT_MODE_QUARTERLY                     -0.010737   \n",
       "PAYMENT_MODE_SEMI-ANNUAL                    0.002242   \n",
       "PAYMENT_MODE_SINGLE-PREMIUM                -0.003525   \n",
       "\n",
       "                             MEMBERSHIP_PACKAGE_TYPE-A  \\\n",
       "MEMBERSHIP_TERM_YEARS                         0.345700   \n",
       "ANNUAL_FEES                                  -0.030913   \n",
       "MEMBER_GENDER                                 0.048716   \n",
       "MEMBER_ANNUAL_INCOME                          0.014064   \n",
       "MEMBER_OCCUPATION_CD                          0.147084   \n",
       "MEMBER_AGE_AT_ISSUE                           0.148652   \n",
       "ADDITIONAL_MEMBERS                           -0.114694   \n",
       "AGENT_CODE                                    0.254039   \n",
       "MEMBERSHIP_STATUS                            -0.215190   \n",
       "MEMBER_MARITAL_STATUS_D                       0.020324   \n",
       "MEMBER_MARITAL_STATUS_M                       0.082949   \n",
       "MEMBER_MARITAL_STATUS_S                      -0.084469   \n",
       "MEMBER_MARITAL_STATUS_W                      -0.022517   \n",
       "MEMBERSHIP_PACKAGE_TYPE-A                     1.000000   \n",
       "MEMBERSHIP_PACKAGE_TYPE-B                    -1.000000   \n",
       "PAYMENT_MODE_ANNUAL                          -0.057692   \n",
       "PAYMENT_MODE_MONTHLY                          0.135648   \n",
       "PAYMENT_MODE_QUARTERLY                       -0.022117   \n",
       "PAYMENT_MODE_SEMI-ANNUAL                     -0.056069   \n",
       "PAYMENT_MODE_SINGLE-PREMIUM                  -0.021296   \n",
       "\n",
       "                             MEMBERSHIP_PACKAGE_TYPE-B  PAYMENT_MODE_ANNUAL  \\\n",
       "MEMBERSHIP_TERM_YEARS                        -0.345700             0.070259   \n",
       "ANNUAL_FEES                                   0.030913             0.031505   \n",
       "MEMBER_GENDER                                -0.048716             0.015290   \n",
       "MEMBER_ANNUAL_INCOME                         -0.014064            -0.004560   \n",
       "MEMBER_OCCUPATION_CD                         -0.147084             0.017193   \n",
       "MEMBER_AGE_AT_ISSUE                          -0.148652             0.045754   \n",
       "ADDITIONAL_MEMBERS                            0.114694            -0.030140   \n",
       "AGENT_CODE                                   -0.254039             0.193500   \n",
       "MEMBERSHIP_STATUS                             0.215190            -0.044270   \n",
       "MEMBER_MARITAL_STATUS_D                      -0.020324            -0.001870   \n",
       "MEMBER_MARITAL_STATUS_M                      -0.082949             0.037031   \n",
       "MEMBER_MARITAL_STATUS_S                       0.084469            -0.040580   \n",
       "MEMBER_MARITAL_STATUS_W                       0.022517             0.003687   \n",
       "MEMBERSHIP_PACKAGE_TYPE-A                    -1.000000            -0.057692   \n",
       "MEMBERSHIP_PACKAGE_TYPE-B                     1.000000             0.057692   \n",
       "PAYMENT_MODE_ANNUAL                           0.057692             1.000000   \n",
       "PAYMENT_MODE_MONTHLY                         -0.135648            -0.622343   \n",
       "PAYMENT_MODE_QUARTERLY                        0.022117            -0.261334   \n",
       "PAYMENT_MODE_SEMI-ANNUAL                      0.056069            -0.542189   \n",
       "PAYMENT_MODE_SINGLE-PREMIUM                   0.021296            -0.038962   \n",
       "\n",
       "                             PAYMENT_MODE_MONTHLY  PAYMENT_MODE_QUARTERLY  \\\n",
       "MEMBERSHIP_TERM_YEARS                   -0.071019               -0.003286   \n",
       "ANNUAL_FEES                             -0.013746               -0.023511   \n",
       "MEMBER_GENDER                            0.007491               -0.008500   \n",
       "MEMBER_ANNUAL_INCOME                    -0.014460               -0.007249   \n",
       "MEMBER_OCCUPATION_CD                    -0.030154                0.001350   \n",
       "MEMBER_AGE_AT_ISSUE                     -0.050117                0.001549   \n",
       "ADDITIONAL_MEMBERS                       0.009577                0.017836   \n",
       "AGENT_CODE                              -0.118245               -0.110722   \n",
       "MEMBERSHIP_STATUS                       -0.004684                0.039374   \n",
       "MEMBER_MARITAL_STATUS_D                  0.018392               -0.013062   \n",
       "MEMBER_MARITAL_STATUS_M                 -0.040832               -0.010215   \n",
       "MEMBER_MARITAL_STATUS_S                  0.040194                0.017699   \n",
       "MEMBER_MARITAL_STATUS_W                 -0.001074               -0.010737   \n",
       "MEMBERSHIP_PACKAGE_TYPE-A                0.135648               -0.022117   \n",
       "MEMBERSHIP_PACKAGE_TYPE-B               -0.135648                0.022117   \n",
       "PAYMENT_MODE_ANNUAL                     -0.622343               -0.261334   \n",
       "PAYMENT_MODE_MONTHLY                     1.000000               -0.093145   \n",
       "PAYMENT_MODE_QUARTERLY                  -0.093145                1.000000   \n",
       "PAYMENT_MODE_SEMI-ANNUAL                -0.193247               -0.081148   \n",
       "PAYMENT_MODE_SINGLE-PREMIUM             -0.013887               -0.005831   \n",
       "\n",
       "                             PAYMENT_MODE_SEMI-ANNUAL  \\\n",
       "MEMBERSHIP_TERM_YEARS                       -0.017325   \n",
       "ANNUAL_FEES                                 -0.027798   \n",
       "MEMBER_GENDER                               -0.023850   \n",
       "MEMBER_ANNUAL_INCOME                         0.026042   \n",
       "MEMBER_OCCUPATION_CD                         0.009068   \n",
       "MEMBER_AGE_AT_ISSUE                         -0.010297   \n",
       "ADDITIONAL_MEMBERS                           0.019850   \n",
       "AGENT_CODE                                  -0.074397   \n",
       "MEMBERSHIP_STATUS                            0.046093   \n",
       "MEMBER_MARITAL_STATUS_D                     -0.010383   \n",
       "MEMBER_MARITAL_STATUS_M                     -0.000516   \n",
       "MEMBER_MARITAL_STATUS_S                      0.001887   \n",
       "MEMBER_MARITAL_STATUS_W                      0.002242   \n",
       "MEMBERSHIP_PACKAGE_TYPE-A                   -0.056069   \n",
       "MEMBERSHIP_PACKAGE_TYPE-B                    0.056069   \n",
       "PAYMENT_MODE_ANNUAL                         -0.542189   \n",
       "PAYMENT_MODE_MONTHLY                        -0.193247   \n",
       "PAYMENT_MODE_QUARTERLY                      -0.081148   \n",
       "PAYMENT_MODE_SEMI-ANNUAL                     1.000000   \n",
       "PAYMENT_MODE_SINGLE-PREMIUM                 -0.012098   \n",
       "\n",
       "                             PAYMENT_MODE_SINGLE-PREMIUM  \n",
       "MEMBERSHIP_TERM_YEARS                           0.009413  \n",
       "ANNUAL_FEES                                     0.148540  \n",
       "MEMBER_GENDER                                  -0.008534  \n",
       "MEMBER_ANNUAL_INCOME                            0.000077  \n",
       "MEMBER_OCCUPATION_CD                           -0.003097  \n",
       "MEMBER_AGE_AT_ISSUE                             0.021172  \n",
       "ADDITIONAL_MEMBERS                              0.015138  \n",
       "AGENT_CODE                                     -0.011196  \n",
       "MEMBERSHIP_STATUS                              -0.019457  \n",
       "MEMBER_MARITAL_STATUS_D                        -0.001947  \n",
       "MEMBER_MARITAL_STATUS_M                         0.001561  \n",
       "MEMBER_MARITAL_STATUS_S                         0.000066  \n",
       "MEMBER_MARITAL_STATUS_W                        -0.003525  \n",
       "MEMBERSHIP_PACKAGE_TYPE-A                      -0.021296  \n",
       "MEMBERSHIP_PACKAGE_TYPE-B                       0.021296  \n",
       "PAYMENT_MODE_ANNUAL                            -0.038962  \n",
       "PAYMENT_MODE_MONTHLY                           -0.013887  \n",
       "PAYMENT_MODE_QUARTERLY                         -0.005831  \n",
       "PAYMENT_MODE_SEMI-ANNUAL                       -0.012098  \n",
       "PAYMENT_MODE_SINGLE-PREMIUM                     1.000000  "
      ]
     },
     "execution_count": 25,
     "metadata": {},
     "output_type": "execute_result"
    }
   ],
   "source": [
    "dataset_dumm.corr()"
   ]
  },
  {
   "cell_type": "code",
   "execution_count": 26,
   "metadata": {},
   "outputs": [
    {
     "name": "stdout",
     "output_type": "stream",
     "text": [
      "<class 'pandas.core.frame.DataFrame'>\n",
      "Int64Index: 10361 entries, 0 to 10361\n",
      "Data columns (total 20 columns):\n",
      " #   Column                       Non-Null Count  Dtype  \n",
      "---  ------                       --------------  -----  \n",
      " 0   MEMBERSHIP_TERM_YEARS        10361 non-null  int64  \n",
      " 1   ANNUAL_FEES                  10361 non-null  float64\n",
      " 2   MEMBER_GENDER                10361 non-null  int64  \n",
      " 3   MEMBER_ANNUAL_INCOME         10361 non-null  float64\n",
      " 4   MEMBER_OCCUPATION_CD         10361 non-null  float64\n",
      " 5   MEMBER_AGE_AT_ISSUE          10361 non-null  int64  \n",
      " 6   ADDITIONAL_MEMBERS           10361 non-null  int64  \n",
      " 7   AGENT_CODE                   10361 non-null  int64  \n",
      " 8   MEMBERSHIP_STATUS            10361 non-null  int64  \n",
      " 9   MEMBER_MARITAL_STATUS_D      10361 non-null  uint8  \n",
      " 10  MEMBER_MARITAL_STATUS_M      10361 non-null  uint8  \n",
      " 11  MEMBER_MARITAL_STATUS_S      10361 non-null  uint8  \n",
      " 12  MEMBER_MARITAL_STATUS_W      10361 non-null  uint8  \n",
      " 13  MEMBERSHIP_PACKAGE_TYPE-A    10361 non-null  uint8  \n",
      " 14  MEMBERSHIP_PACKAGE_TYPE-B    10361 non-null  uint8  \n",
      " 15  PAYMENT_MODE_ANNUAL          10361 non-null  uint8  \n",
      " 16  PAYMENT_MODE_MONTHLY         10361 non-null  uint8  \n",
      " 17  PAYMENT_MODE_QUARTERLY       10361 non-null  uint8  \n",
      " 18  PAYMENT_MODE_SEMI-ANNUAL     10361 non-null  uint8  \n",
      " 19  PAYMENT_MODE_SINGLE-PREMIUM  10361 non-null  uint8  \n",
      "dtypes: float64(3), int64(6), uint8(11)\n",
      "memory usage: 920.8 KB\n"
     ]
    }
   ],
   "source": [
    "dataset_dumm.info()"
   ]
  },
  {
   "cell_type": "markdown",
   "metadata": {},
   "source": [
    "### Plotting graphs against different variables to understand data"
   ]
  },
  {
   "cell_type": "code",
   "execution_count": 60,
   "metadata": {},
   "outputs": [
    {
     "name": "stderr",
     "output_type": "stream",
     "text": [
      "C:\\Users\\PRACHI JHA\\anaconda3\\lib\\site-packages\\seaborn\\_decorators.py:36: FutureWarning: Pass the following variables as keyword args: x, y. From version 0.12, the only valid positional argument will be `data`, and passing other arguments without an explicit keyword will result in an error or misinterpretation.\n",
      "  warnings.warn(\n"
     ]
    },
    {
     "data": {
      "text/plain": [
       "<AxesSubplot:xlabel='MEMBERSHIP_TERM_YEARS', ylabel='ANNUAL_FEES'>"
      ]
     },
     "execution_count": 60,
     "metadata": {},
     "output_type": "execute_result"
    },
    {
     "data": {
      "image/png": "[encoded data removed]",
      "text/plain": [
       "<Figure size 1152x576 with 1 Axes>"
      ]
     },
     "metadata": {
      "needs_background": "light"
     },
     "output_type": "display_data"
    }
   ],
   "source": [
    "fig = plt.figure(figsize=(16,8))\n",
    "sns.scatterplot(dataset_dumm.MEMBERSHIP_TERM_YEARS,dataset_dumm.ANNUAL_FEES,hue=dataset_dumm.MEMBERSHIP_STATUS)"
   ]
  },
  {
   "cell_type": "code",
   "execution_count": 61,
   "metadata": {},
   "outputs": [
    {
     "name": "stderr",
     "output_type": "stream",
     "text": [
      "C:\\Users\\PRACHI JHA\\anaconda3\\lib\\site-packages\\seaborn\\_decorators.py:36: FutureWarning: Pass the following variables as keyword args: x, y. From version 0.12, the only valid positional argument will be `data`, and passing other arguments without an explicit keyword will result in an error or misinterpretation.\n",
      "  warnings.warn(\n"
     ]
    },
    {
     "data": {
      "text/plain": [
       "<AxesSubplot:xlabel='MEMBER_OCCUPATION_CD', ylabel='MEMBER_AGE_AT_ISSUE'>"
      ]
     },
     "execution_count": 61,
     "metadata": {},
     "output_type": "execute_result"
    },
    {
     "data": {
      "image/png": "[encoded data removed]",
      "text/plain": [
       "<Figure size 1152x576 with 1 Axes>"
      ]
     },
     "metadata": {
      "needs_background": "light"
     },
     "output_type": "display_data"
    }
   ],
   "source": [
    "fig = plt.figure(figsize=(16,8))\n",
    "sns.scatterplot(dataset_dumm.MEMBER_OCCUPATION_CD,dataset_dumm.MEMBER_AGE_AT_ISSUE,hue=dataset_dumm.MEMBERSHIP_STATUS)"
   ]
  },
  {
   "cell_type": "code",
   "execution_count": null,
   "metadata": {},
   "outputs": [
    {
     "name": "stderr",
     "output_type": "stream",
     "text": [
      "C:\\Users\\PRACHI JHA\\anaconda3\\lib\\site-packages\\seaborn\\_decorators.py:36: FutureWarning: Pass the following variables as keyword args: x, y. From version 0.12, the only valid positional argument will be `data`, and passing other arguments without an explicit keyword will result in an error or misinterpretation.\n",
      "  warnings.warn(\n"
     ]
    }
   ],
   "source": [
    "fig = plt.figure(figsize=(16,8))\n",
    "sns.swarmplot(dataset_dumm.MEMBER_OCCUPATION_CD,dataset_dumm.MEMBER_AGE_AT_ISSUE,hue=dataset_dumm.MEMBERSHIP_STATUS)"
   ]
  },
  {
   "cell_type": "code",
   "execution_count": null,
   "metadata": {},
   "outputs": [],
   "source": [
    "fig = plt.figure(figsize=(16,8))\n",
    "sns.countplot(dataset_dumm.MEMBER_GENDER,hue=dataset_dumm.MEMBERSHIP_STATUS)"
   ]
  },
  {
   "cell_type": "code",
   "execution_count": null,
   "metadata": {},
   "outputs": [],
   "source": [
    "fig = plt.figure(figsize=(16,8))\n",
    "sns.countplot(dataset_dumm.MEMBER_OCCUPATION_CD,hue=dataset_dumm.MEMBERSHIP_STATUS)"
   ]
  },
  {
   "cell_type": "code",
   "execution_count": null,
   "metadata": {},
   "outputs": [],
   "source": [
    "fig = plt.figure(figsize=(16,8))\n",
    "sns.countplot(dataset_dumm.AGENT_CODE,hue=dataset_dumm.MEMBERSHIP_STATUS)"
   ]
  },
  {
   "cell_type": "code",
   "execution_count": null,
   "metadata": {},
   "outputs": [],
   "source": [
    "fig = plt.figure(figsize=(16,8))\n",
    "sns.scatterplot(dataset_dumm.ADDITIONAL_MEMBERS,dataset_dumm.MEMBERSHIP_TERM_YEARS,hue=dataset_dumm.MEMBERSHIP_STATUS)"
   ]
  },
  {
   "cell_type": "code",
   "execution_count": null,
   "metadata": {},
   "outputs": [],
   "source": [
    "fig = plt.figure(figsize=(16,8))\n",
    "sns.swarmplot(dataset_dumm.MEMBERSHIP_TERM_YEARS,dataset_dumm.ADDITIONAL_MEMBERS,hue=dataset_dumm.MEMBERSHIP_STATUS)"
   ]
  },
  {
   "cell_type": "code",
   "execution_count": null,
   "metadata": {},
   "outputs": [],
   "source": [
    "fig = plt.figure(figsize=(16,8))\n",
    "sns.scatterplot(dataset_dumm.ADDITIONAL_MEMBERS,dataset_dumm.ANNUAL_FEES,hue=dataset_dumm.MEMBERSHIP_STATUS)"
   ]
  },
  {
   "cell_type": "code",
   "execution_count": null,
   "metadata": {},
   "outputs": [],
   "source": [
    "fig = plt.figure(figsize=(16,8))\n",
    "sns.swarmplot(dataset_dumm.ADDITIONAL_MEMBERS,dataset_dumm.ANNUAL_FEES,hue=dataset_dumm.MEMBERSHIP_STATUS)"
   ]
  },
  {
   "cell_type": "code",
   "execution_count": null,
   "metadata": {},
   "outputs": [],
   "source": [
    "fig = plt.figure(figsize=(16,8))\n",
    "sns.distplot(dataset_dumm.ADDITIONAL_MEMBERS)"
   ]
  },
  {
   "cell_type": "code",
   "execution_count": null,
   "metadata": {},
   "outputs": [],
   "source": [
    "fig = plt.figure(figsize=(16,8))\n",
    "sns.distplot(dataset_dumm.AGENT_CODE)"
   ]
  },
  {
   "cell_type": "markdown",
   "metadata": {},
   "source": [
    "### Spliting data into train and test set"
   ]
  },
  {
   "cell_type": "code",
   "execution_count": 27,
   "metadata": {},
   "outputs": [],
   "source": [
    "from sklearn.model_selection import train_test_split"
   ]
  },
  {
   "cell_type": "code",
   "execution_count": 28,
   "metadata": {},
   "outputs": [],
   "source": [
    "X=dataset_dumm[['MEMBERSHIP_TERM_YEARS', 'ANNUAL_FEES', 'MEMBER_GENDER','MEMBER_ANNUAL_INCOME', 'MEMBER_OCCUPATION_CD'\n",
    "                  , 'MEMBER_AGE_AT_ISSUE', 'ADDITIONAL_MEMBERS', 'AGENT_CODE','MEMBER_MARITAL_STATUS_D'\n",
    "                  , 'MEMBER_MARITAL_STATUS_M', 'MEMBER_MARITAL_STATUS_S', 'MEMBER_MARITAL_STATUS_W'\n",
    "                  , 'MEMBERSHIP_PACKAGE_TYPE-A', 'MEMBERSHIP_PACKAGE_TYPE-B', 'PAYMENT_MODE_ANNUAL'\n",
    "                  , 'PAYMENT_MODE_MONTHLY', 'PAYMENT_MODE_QUARTERLY', 'PAYMENT_MODE_SEMI-ANNUAL'\n",
    "                  , 'PAYMENT_MODE_SINGLE-PREMIUM']]\n",
    "y=dataset_dumm['MEMBERSHIP_STATUS']"
   ]
  },
  {
   "cell_type": "code",
   "execution_count": 29,
   "metadata": {},
   "outputs": [
    {
     "name": "stdout",
     "output_type": "stream",
     "text": [
      "0    0\n",
      "1    0\n",
      "2    0\n",
      "3    0\n",
      "4    0\n",
      "Name: MEMBERSHIP_STATUS, dtype: int64\n"
     ]
    },
    {
     "data": {
      "text/html": [
       "<div>\n",
       "<style scoped>\n",
       "    .dataframe tbody tr th:only-of-type {\n",
       "        vertical-align: middle;\n",
       "    }\n",
       "\n",
       "    .dataframe tbody tr th {\n",
       "        vertical-align: top;\n",
       "    }\n",
       "\n",
       "    .dataframe thead th {\n",
       "        text-align: right;\n",
       "    }\n",
       "</style>\n",
       "<table border=\"1\" class=\"dataframe\">\n",
       "  <thead>\n",
       "    <tr style=\"text-align: right;\">\n",
       "      <th></th>\n",
       "      <th>MEMBERSHIP_TERM_YEARS</th>\n",
       "      <th>ANNUAL_FEES</th>\n",
       "      <th>MEMBER_GENDER</th>\n",
       "      <th>MEMBER_ANNUAL_INCOME</th>\n",
       "      <th>MEMBER_OCCUPATION_CD</th>\n",
       "      <th>MEMBER_AGE_AT_ISSUE</th>\n",
       "      <th>ADDITIONAL_MEMBERS</th>\n",
       "      <th>AGENT_CODE</th>\n",
       "      <th>MEMBER_MARITAL_STATUS_D</th>\n",
       "      <th>MEMBER_MARITAL_STATUS_M</th>\n",
       "      <th>MEMBER_MARITAL_STATUS_S</th>\n",
       "      <th>MEMBER_MARITAL_STATUS_W</th>\n",
       "      <th>MEMBERSHIP_PACKAGE_TYPE-A</th>\n",
       "      <th>MEMBERSHIP_PACKAGE_TYPE-B</th>\n",
       "      <th>PAYMENT_MODE_ANNUAL</th>\n",
       "      <th>PAYMENT_MODE_MONTHLY</th>\n",
       "      <th>PAYMENT_MODE_QUARTERLY</th>\n",
       "      <th>PAYMENT_MODE_SEMI-ANNUAL</th>\n",
       "      <th>PAYMENT_MODE_SINGLE-PREMIUM</th>\n",
       "    </tr>\n",
       "  </thead>\n",
       "  <tbody>\n",
       "    <tr>\n",
       "      <th>0</th>\n",
       "      <td>29</td>\n",
       "      <td>113125.0</td>\n",
       "      <td>0</td>\n",
       "      <td>25200000.0</td>\n",
       "      <td>1.0</td>\n",
       "      <td>45</td>\n",
       "      <td>2</td>\n",
       "      <td>477</td>\n",
       "      <td>0</td>\n",
       "      <td>1</td>\n",
       "      <td>0</td>\n",
       "      <td>0</td>\n",
       "      <td>0</td>\n",
       "      <td>1</td>\n",
       "      <td>1</td>\n",
       "      <td>0</td>\n",
       "      <td>0</td>\n",
       "      <td>0</td>\n",
       "      <td>0</td>\n",
       "    </tr>\n",
       "    <tr>\n",
       "      <th>1</th>\n",
       "      <td>38</td>\n",
       "      <td>112220.0</td>\n",
       "      <td>0</td>\n",
       "      <td>10339200.0</td>\n",
       "      <td>1.0</td>\n",
       "      <td>36</td>\n",
       "      <td>3</td>\n",
       "      <td>255</td>\n",
       "      <td>0</td>\n",
       "      <td>1</td>\n",
       "      <td>0</td>\n",
       "      <td>0</td>\n",
       "      <td>0</td>\n",
       "      <td>1</td>\n",
       "      <td>0</td>\n",
       "      <td>0</td>\n",
       "      <td>1</td>\n",
       "      <td>0</td>\n",
       "      <td>0</td>\n",
       "    </tr>\n",
       "    <tr>\n",
       "      <th>2</th>\n",
       "      <td>12</td>\n",
       "      <td>100000.0</td>\n",
       "      <td>0</td>\n",
       "      <td>14400000.0</td>\n",
       "      <td>1.0</td>\n",
       "      <td>42</td>\n",
       "      <td>1</td>\n",
       "      <td>7866</td>\n",
       "      <td>0</td>\n",
       "      <td>1</td>\n",
       "      <td>0</td>\n",
       "      <td>0</td>\n",
       "      <td>0</td>\n",
       "      <td>1</td>\n",
       "      <td>1</td>\n",
       "      <td>0</td>\n",
       "      <td>0</td>\n",
       "      <td>0</td>\n",
       "      <td>0</td>\n",
       "    </tr>\n",
       "    <tr>\n",
       "      <th>3</th>\n",
       "      <td>12</td>\n",
       "      <td>100000.0</td>\n",
       "      <td>0</td>\n",
       "      <td>9000000.0</td>\n",
       "      <td>1.0</td>\n",
       "      <td>39</td>\n",
       "      <td>2</td>\n",
       "      <td>200533</td>\n",
       "      <td>0</td>\n",
       "      <td>1</td>\n",
       "      <td>0</td>\n",
       "      <td>0</td>\n",
       "      <td>0</td>\n",
       "      <td>1</td>\n",
       "      <td>1</td>\n",
       "      <td>0</td>\n",
       "      <td>0</td>\n",
       "      <td>0</td>\n",
       "      <td>0</td>\n",
       "    </tr>\n",
       "    <tr>\n",
       "      <th>4</th>\n",
       "      <td>46</td>\n",
       "      <td>100000.0</td>\n",
       "      <td>0</td>\n",
       "      <td>4800000.0</td>\n",
       "      <td>1.0</td>\n",
       "      <td>27</td>\n",
       "      <td>2</td>\n",
       "      <td>6988</td>\n",
       "      <td>0</td>\n",
       "      <td>1</td>\n",
       "      <td>0</td>\n",
       "      <td>0</td>\n",
       "      <td>0</td>\n",
       "      <td>1</td>\n",
       "      <td>0</td>\n",
       "      <td>0</td>\n",
       "      <td>1</td>\n",
       "      <td>0</td>\n",
       "      <td>0</td>\n",
       "    </tr>\n",
       "  </tbody>\n",
       "</table>\n",
       "</div>"
      ],
      "text/plain": [
       "   MEMBERSHIP_TERM_YEARS  ANNUAL_FEES  MEMBER_GENDER  MEMBER_ANNUAL_INCOME  \\\n",
       "0                     29     113125.0              0            25200000.0   \n",
       "1                     38     112220.0              0            10339200.0   \n",
       "2                     12     100000.0              0            14400000.0   \n",
       "3                     12     100000.0              0             9000000.0   \n",
       "4                     46     100000.0              0             4800000.0   \n",
       "\n",
       "   MEMBER_OCCUPATION_CD  MEMBER_AGE_AT_ISSUE  ADDITIONAL_MEMBERS  AGENT_CODE  \\\n",
       "0                   1.0                   45                   2         477   \n",
       "1                   1.0                   36                   3         255   \n",
       "2                   1.0                   42                   1        7866   \n",
       "3                   1.0                   39                   2      200533   \n",
       "4                   1.0                   27                   2        6988   \n",
       "\n",
       "   MEMBER_MARITAL_STATUS_D  MEMBER_MARITAL_STATUS_M  MEMBER_MARITAL_STATUS_S  \\\n",
       "0                        0                        1                        0   \n",
       "1                        0                        1                        0   \n",
       "2                        0                        1                        0   \n",
       "3                        0                        1                        0   \n",
       "4                        0                        1                        0   \n",
       "\n",
       "   MEMBER_MARITAL_STATUS_W  MEMBERSHIP_PACKAGE_TYPE-A  \\\n",
       "0                        0                          0   \n",
       "1                        0                          0   \n",
       "2                        0                          0   \n",
       "3                        0                          0   \n",
       "4                        0                          0   \n",
       "\n",
       "   MEMBERSHIP_PACKAGE_TYPE-B  PAYMENT_MODE_ANNUAL  PAYMENT_MODE_MONTHLY  \\\n",
       "0                          1                    1                     0   \n",
       "1                          1                    0                     0   \n",
       "2                          1                    1                     0   \n",
       "3                          1                    1                     0   \n",
       "4                          1                    0                     0   \n",
       "\n",
       "   PAYMENT_MODE_QUARTERLY  PAYMENT_MODE_SEMI-ANNUAL  \\\n",
       "0                       0                         0   \n",
       "1                       1                         0   \n",
       "2                       0                         0   \n",
       "3                       0                         0   \n",
       "4                       1                         0   \n",
       "\n",
       "   PAYMENT_MODE_SINGLE-PREMIUM  \n",
       "0                            0  \n",
       "1                            0  \n",
       "2                            0  \n",
       "3                            0  \n",
       "4                            0  "
      ]
     },
     "execution_count": 29,
     "metadata": {},
     "output_type": "execute_result"
    }
   ],
   "source": [
    "print(y.head())\n",
    "X.head()"
   ]
  },
  {
   "cell_type": "markdown",
   "metadata": {},
   "source": [
    "### Applying gradient boosting and spliting data"
   ]
  },
  {
   "cell_type": "code",
   "execution_count": 30,
   "metadata": {},
   "outputs": [],
   "source": [
    "from sklearn.datasets import make_hastie_10_2\n",
    "from sklearn.ensemble import GradientBoostingClassifier"
   ]
  },
  {
   "cell_type": "code",
   "execution_count": 31,
   "metadata": {},
   "outputs": [
    {
     "data": {
      "text/plain": [
       "GradientBoostingClassifier()"
      ]
     },
     "execution_count": 31,
     "metadata": {},
     "output_type": "execute_result"
    }
   ],
   "source": [
    "#Build modle and fit it\n",
    "\n",
    "X, y = make_hastie_10_2(random_state=0)\n",
    "X_train, X_test, y_train, y_test = train_test_split(X, y, test_size=0.30, random_state=0)\n",
    "clf = GradientBoostingClassifier().fit(X_train, y_train)\n",
    "clf"
   ]
  },
  {
   "cell_type": "code",
   "execution_count": 32,
   "metadata": {},
   "outputs": [],
   "source": [
    "y_pred = clf.predict(X_test)"
   ]
  },
  {
   "cell_type": "code",
   "execution_count": 33,
   "metadata": {},
   "outputs": [
    {
     "data": {
      "text/plain": [
       "0.9486904761904762"
      ]
     },
     "execution_count": 33,
     "metadata": {},
     "output_type": "execute_result"
    }
   ],
   "source": [
    "clf.score(X_train,y_train)"
   ]
  },
  {
   "cell_type": "code",
   "execution_count": 34,
   "metadata": {},
   "outputs": [
    {
     "data": {
      "text/plain": [
       "0.9041943304529633"
      ]
     },
     "execution_count": 34,
     "metadata": {},
     "output_type": "execute_result"
    }
   ],
   "source": [
    "from sklearn.metrics import roc_curve, auc\n",
    "\n",
    "false_positive_rate, true_positive_rate, thresholds = roc_curve(y_test, y_pred)\n",
    "roc_auc = auc(false_positive_rate, true_positive_rate)\n",
    "roc_auc"
   ]
  },
  {
   "cell_type": "code",
   "execution_count": 35,
   "metadata": {},
   "outputs": [
    {
     "data": {
      "image/png": "[encoded data removed]",
      "text/plain": [
       "<Figure size 432x288 with 1 Axes>"
      ]
     },
     "metadata": {
      "needs_background": "light"
     },
     "output_type": "display_data"
    }
   ],
   "source": [
    "learning_rates = [1, 0.75, 0.5, 0.25, 0.1, 0.05, 0.01]\n",
    "train_results = []\n",
    "test_results = []\n",
    "for var in learning_rates:\n",
    "   model = GradientBoostingClassifier(learning_rate=var)\n",
    "   model.fit(X_train, y_train)\n",
    "   train_pred = model.predict(X_train)\n",
    "   false_positive_rate, true_positive_rate, thresholds = roc_curve(y_train, train_pred)\n",
    "   roc_auc = auc(false_positive_rate, true_positive_rate)\n",
    "   train_results.append(roc_auc)\n",
    "   y_pred = model.predict(X_test)\n",
    "   false_positive_rate, true_positive_rate, thresholds = roc_curve(y_test, y_pred)\n",
    "   roc_auc = auc(false_positive_rate, true_positive_rate)\n",
    "   test_results.append(roc_auc)\n",
    "    \n",
    "from matplotlib.legend_handler import HandlerLine2D\n",
    "line1, = plt.plot(learning_rates, train_results, 'b', label='Train AUC')\n",
    "line2, = plt.plot(learning_rates, test_results, 'r', label='Test AUC')\n",
    "plt.legend(handler_map={line1: HandlerLine2D(numpoints=2)})\n",
    "plt.ylabel('AUC score')\n",
    "plt.xlabel('learning rate')\n",
    "plt.show()"
   ]
  },
  {
   "cell_type": "code",
   "execution_count": 36,
   "metadata": {},
   "outputs": [
    {
     "data": {
      "image/png": "[encoded data removed]",
      "text/plain": [
       "<Figure size 432x288 with 1 Axes>"
      ]
     },
     "metadata": {
      "needs_background": "light"
     },
     "output_type": "display_data"
    }
   ],
   "source": [
    "n_estimators = [1, 2, 4, 8, 16, 32, 64, 100, 200]\n",
    "train_results = []\n",
    "test_results = []\n",
    "\n",
    "for var in n_estimators:\n",
    "   model = GradientBoostingClassifier(n_estimators=var)\n",
    "   model.fit(X_train, y_train)\n",
    "   train_pred = model.predict(X_train)\n",
    "   false_positive_rate, true_positive_rate, thresholds = roc_curve(y_train, train_pred)\n",
    "   roc_auc = auc(false_positive_rate, true_positive_rate)\n",
    "   train_results.append(roc_auc)\n",
    "   y_pred = model.predict(X_test)\n",
    "   false_positive_rate, true_positive_rate, thresholds = roc_curve(y_test, y_pred)\n",
    "   roc_auc = auc(false_positive_rate, true_positive_rate)\n",
    "   test_results.append(roc_auc)\n",
    "    \n",
    "from matplotlib.legend_handler import HandlerLine2D\n",
    "line1, = plt.plot(n_estimators, train_results, 'b', label='Train AUC')\n",
    "line2, = plt.plot(n_estimators, test_results, 'r', label='Test AUC')\n",
    "plt.legend(handler_map={line1: HandlerLine2D(numpoints=2)})\n",
    "plt.ylabel('AUC score')\n",
    "plt.xlabel('n_estimators')\n",
    "plt.show()"
   ]
  },
  {
   "cell_type": "code",
   "execution_count": 37,
   "metadata": {},
   "outputs": [
    {
     "data": {
      "image/png": "[encoded data removed]",
      "text/plain": [
       "<Figure size 432x288 with 1 Axes>"
      ]
     },
     "metadata": {
      "needs_background": "light"
     },
     "output_type": "display_data"
    }
   ],
   "source": [
    "max_depths = np.linspace(1, 10, 10, endpoint=True)\n",
    "train_results = []\n",
    "test_results = []\n",
    "\n",
    "for max_depth in max_depths:\n",
    "   model = GradientBoostingClassifier(max_depth=max_depth)\n",
    "   model.fit(X_train, y_train)\n",
    "   train_pred = model.predict(X_train)\n",
    "   false_positive_rate, true_positive_rate, thresholds = roc_curve(y_train, train_pred)\n",
    "   roc_auc = auc(false_positive_rate, true_positive_rate)\n",
    "   train_results.append(roc_auc)\n",
    "   y_pred = model.predict(X_test)\n",
    "   false_positive_rate, true_positive_rate, thresholds = roc_curve(y_test, y_pred)\n",
    "   roc_auc = auc(false_positive_rate, true_positive_rate)\n",
    "   test_results.append(roc_auc)\n",
    "    \n",
    "from matplotlib.legend_handler import HandlerLine2D\n",
    "line1, = plt.plot(max_depths, train_results, 'b', label='Train AUC')\n",
    "line2, = plt.plot(max_depths, test_results, 'r', label='Test AUC')\n",
    "plt.legend(handler_map={line1: HandlerLine2D(numpoints=2)})\n",
    "plt.ylabel('AUC score')\n",
    "plt.xlabel('Tree depth')\n",
    "plt.show()"
   ]
  },
  {
   "cell_type": "code",
   "execution_count": 38,
   "metadata": {},
   "outputs": [
    {
     "data": {
      "image/png": "[encoded data removed]",
      "text/plain": [
       "<Figure size 432x288 with 1 Axes>"
      ]
     },
     "metadata": {
      "needs_background": "light"
     },
     "output_type": "display_data"
    }
   ],
   "source": [
    "min_samples_splits = np.linspace(0.1, 1.0, 10, endpoint=True)\n",
    "train_results = []\n",
    "test_results = []\n",
    "for min_samples_split in min_samples_splits:\n",
    "   model = GradientBoostingClassifier(min_samples_split=min_samples_split)\n",
    "   model.fit(X_train, y_train)\n",
    "   train_pred = model.predict(X_train)\n",
    "   false_positive_rate, true_positive_rate, thresholds = roc_curve(y_train, train_pred)\n",
    "   roc_auc = auc(false_positive_rate, true_positive_rate)\n",
    "   train_results.append(roc_auc)\n",
    "   y_pred = model.predict(X_test)\n",
    "   false_positive_rate, true_positive_rate, thresholds = roc_curve(y_test, y_pred)\n",
    "   roc_auc = auc(false_positive_rate, true_positive_rate)\n",
    "   test_results.append(roc_auc)\n",
    "    \n",
    "from matplotlib.legend_handler import HandlerLine2D\n",
    "line1, = plt.plot(min_samples_splits, train_results, 'b', label='Train AUC')\n",
    "line2, = plt.plot(min_samples_splits, test_results, 'r', label='Test AUC')\n",
    "plt.legend(handler_map={line1: HandlerLine2D(numpoints=2)})\n",
    "plt.ylabel('AUC score')\n",
    "plt.xlabel('min samples split')\n",
    "plt.show()"
   ]
  },
  {
   "cell_type": "code",
   "execution_count": 39,
   "metadata": {},
   "outputs": [
    {
     "data": {
      "text/plain": [
       "array([0.10501338, 0.09633095, 0.10631409, 0.09775581, 0.09368825,\n",
       "       0.10145891, 0.10421456, 0.0991034 , 0.10069954, 0.0954211 ])"
      ]
     },
     "execution_count": 39,
     "metadata": {},
     "output_type": "execute_result"
    }
   ],
   "source": [
    "clf.feature_importances_"
   ]
  },
  {
   "cell_type": "code",
   "execution_count": 40,
   "metadata": {},
   "outputs": [
    {
     "ename": "TypeError",
     "evalue": "cannot unpack non-iterable PartialDependenceDisplay object",
     "output_type": "error",
     "traceback": [
      "\u001b[1;31m---------------------------------------------------------------------------\u001b[0m",
      "\u001b[1;31mTypeError\u001b[0m                                 Traceback (most recent call last)",
      "\u001b[1;32m<ipython-input-40-bfd5c4567454>\u001b[0m in \u001b[0;36m<module>\u001b[1;34m\u001b[0m\n\u001b[0;32m      2\u001b[0m \u001b[1;33m\u001b[0m\u001b[0m\n\u001b[0;32m      3\u001b[0m \u001b[0mfeatures\u001b[0m \u001b[1;33m=\u001b[0m \u001b[1;33m[\u001b[0m\u001b[1;36m0\u001b[0m\u001b[1;33m,\u001b[0m \u001b[1;36m2\u001b[0m\u001b[1;33m,\u001b[0m \u001b[1;33m(\u001b[0m\u001b[1;36m0\u001b[0m\u001b[1;33m,\u001b[0m \u001b[1;36m2\u001b[0m\u001b[1;33m)\u001b[0m\u001b[1;33m]\u001b[0m\u001b[1;33m\u001b[0m\u001b[1;33m\u001b[0m\u001b[0m\n\u001b[1;32m----> 4\u001b[1;33m \u001b[0mfig\u001b[0m\u001b[1;33m,\u001b[0m \u001b[0maxs\u001b[0m \u001b[1;33m=\u001b[0m \u001b[0mplot_partial_dependence\u001b[0m\u001b[1;33m(\u001b[0m\u001b[0mclf\u001b[0m\u001b[1;33m,\u001b[0m \u001b[0mX\u001b[0m\u001b[1;33m,\u001b[0m \u001b[0mfeatures\u001b[0m\u001b[1;33m)\u001b[0m\u001b[1;33m\u001b[0m\u001b[1;33m\u001b[0m\u001b[0m\n\u001b[0m",
      "\u001b[1;31mTypeError\u001b[0m: cannot unpack non-iterable PartialDependenceDisplay object"
     ]
    },
    {
     "data": {
      "image/png": "[encoded data removed]",
      "text/plain": [
       "<Figure size 432x288 with 4 Axes>"
      ]
     },
     "metadata": {
      "needs_background": "light"
     },
     "output_type": "display_data"
    }
   ],
   "source": [
    "from sklearn.inspection import plot_partial_dependence, partial_dependence\n",
    "\n",
    "features = [0, 2, (0, 2)]\n",
    "fig, axs = plot_partial_dependence(clf, X, features) "
   ]
  },
  {
   "cell_type": "code",
   "execution_count": 41,
   "metadata": {},
   "outputs": [],
   "source": [
    "#Parameter tunning\n",
    "\n",
    "from sklearn.preprocessing import StandardScaler\n",
    "from sklearn.pipeline import Pipeline, FeatureUnion\n",
    "from sklearn.model_selection import GridSearchCV"
   ]
  },
  {
   "cell_type": "code",
   "execution_count": 42,
   "metadata": {},
   "outputs": [],
   "source": [
    "#Create Standardizer\n",
    "\n",
    "standardizer = StandardScaler()"
   ]
  },
  {
   "cell_type": "code",
   "execution_count": 43,
   "metadata": {},
   "outputs": [],
   "source": [
    "#Standardize features\n",
    "\n",
    "X_std = standardizer.fit_transform(X)"
   ]
  },
  {
   "cell_type": "code",
   "execution_count": 44,
   "metadata": {},
   "outputs": [],
   "source": [
    "#Create a pipeline\n",
    "\n",
    "pipe = Pipeline([('Standardizer',standardizer),('gbm',clf.fit(X_train,y_train))])"
   ]
  },
  {
   "cell_type": "code",
   "execution_count": 45,
   "metadata": {},
   "outputs": [],
   "source": [
    "#Create space of candidate values\n",
    "\n",
    "est = list(range(1,101)) \n",
    "min_split = np.linspace(0.1, 1.0, 10, endpoint=True)\n",
    "max_d = list(range(1,11)) \n",
    "l_rate = list(np.linspace(0.1,1,11)) \n",
    "\n",
    "search_space = [{'gbm__n_estimators':est}\n",
    "                ,{'gbm__max_depth':max_d}\n",
    "                ,{'gbm__learning_rate':l_rate}\n",
    "                ,{'gbm__min_samples_split':min_split}]"
   ]
  },
  {
   "cell_type": "code",
   "execution_count": null,
   "metadata": {},
   "outputs": [],
   "source": [
    "#Create grid search\n",
    "\n",
    "clf = GridSearchCV(pipe,search_space,cv=5,verbose=0).fit(X_std,y) "
   ]
  },
  {
   "cell_type": "code",
   "execution_count": null,
   "metadata": {},
   "outputs": [],
   "source": [
    "#View for best estimators for better model performance\n",
    "\n",
    "clf.best_estimator_.get_params()"
   ]
  },
  {
   "cell_type": "markdown",
   "metadata": {},
   "source": [
    "### Applying best parameters to the model"
   ]
  },
  {
   "cell_type": "code",
   "execution_count": 51,
   "metadata": {},
   "outputs": [
    {
     "data": {
      "text/plain": [
       "GradientBoostingClassifier(learning_rate=0.45999999999999996, max_depth=2,\n",
       "                           random_state=0)"
      ]
     },
     "execution_count": 51,
     "metadata": {},
     "output_type": "execute_result"
    }
   ],
   "source": [
    "clf = GradientBoostingClassifier(n_estimators=100\n",
    "                                 ,learning_rate=0.45999999999999996\n",
    "                                 ,max_depth=2\n",
    "                                 ,min_samples_split=2\n",
    "                                 ,random_state=0).fit(X_train, y_train)\n",
    "clf"
   ]
  },
  {
   "cell_type": "code",
   "execution_count": 52,
   "metadata": {},
   "outputs": [],
   "source": [
    "y_pred = clf.predict(X_test)"
   ]
  },
  {
   "cell_type": "code",
   "execution_count": 53,
   "metadata": {},
   "outputs": [
    {
     "data": {
      "text/plain": [
       "0.9739285714285715"
      ]
     },
     "execution_count": 53,
     "metadata": {},
     "output_type": "execute_result"
    }
   ],
   "source": [
    "clf.score(X_train,y_train)"
   ]
  },
  {
   "cell_type": "code",
   "execution_count": 54,
   "metadata": {},
   "outputs": [
    {
     "data": {
      "text/plain": [
       "0.9380555555555555"
      ]
     },
     "execution_count": 54,
     "metadata": {},
     "output_type": "execute_result"
    }
   ],
   "source": [
    "clf.score(X_test,y_test)"
   ]
  },
  {
   "cell_type": "code",
   "execution_count": 55,
   "metadata": {},
   "outputs": [
    {
     "data": {
      "text/plain": [
       "array([[1669,   77],\n",
       "       [ 146, 1708]], dtype=int64)"
      ]
     },
     "execution_count": 55,
     "metadata": {},
     "output_type": "execute_result"
    }
   ],
   "source": [
    "#Making the confusion matrix\n",
    "\n",
    "from sklearn.metrics import confusion_matrix\n",
    "cm = confusion_matrix(y_test,y_pred)\n",
    "cm"
   ]
  },
  {
   "cell_type": "code",
   "execution_count": 56,
   "metadata": {},
   "outputs": [],
   "source": [
    "from sklearn.metrics import classification_report"
   ]
  },
  {
   "cell_type": "code",
   "execution_count": 57,
   "metadata": {},
   "outputs": [
    {
     "data": {
      "text/plain": [
       "'              precision    recall  f1-score   support\\n\\n        -1.0       0.92      0.96      0.94      1746\\n         1.0       0.96      0.92      0.94      1854\\n\\n    accuracy                           0.94      3600\\n   macro avg       0.94      0.94      0.94      3600\\nweighted avg       0.94      0.94      0.94      3600\\n'"
      ]
     },
     "execution_count": 57,
     "metadata": {},
     "output_type": "execute_result"
    }
   ],
   "source": [
    "classification_report(y_test,y_pred)"
   ]
  },
  {
   "cell_type": "markdown",
   "metadata": {},
   "source": [
    "### Building ROC Curve"
   ]
  },
  {
   "cell_type": "code",
   "execution_count": 58,
   "metadata": {},
   "outputs": [
    {
     "data": {
      "image/png": "[encoded data removed]",
      "text/plain": [
       "<Figure size 432x288 with 1 Axes>"
      ]
     },
     "metadata": {
      "needs_background": "light"
     },
     "output_type": "display_data"
    }
   ],
   "source": [
    "from sklearn.metrics import roc_auc_score\n",
    "from sklearn.metrics import roc_curve\n",
    "logit_roc_auc = roc_auc_score(y_test, y_pred)\n",
    "fpr, tpr, thresholds = roc_curve(y_test, clf.predict_proba(X_test)[:,1])\n",
    "plt.figure()\n",
    "plt.plot(fpr, tpr, label='Gradient Boosting (area = %0.2f)' % logit_roc_auc)\n",
    "plt.plot([0, 1], [0, 1],'r--')\n",
    "plt.xlim([0.0, 1.0])\n",
    "plt.ylim([0.0, 1.05])\n",
    "plt.xlabel('False Positive Rate')\n",
    "plt.ylabel('True Positive Rate')\n",
    "plt.title('Receiver operating characteristic')\n",
    "plt.legend(loc=\"lower right\")\n",
    "plt.savefig('Log_ROC')\n",
    "plt.show()"
   ]
  }
 ],
 "metadata": {
  "kernelspec": {
   "display_name": "Python 3",
   "language": "python",
   "name": "python3"
  },
  "language_info": {
   "codemirror_mode": {
    "name": "ipython",
    "version": 3
   },
   "file_extension": ".py",
   "mimetype": "text/x-python",
   "name": "python",
   "nbconvert_exporter": "python",
   "pygments_lexer": "ipython3",
   "version": "3.8.5"
  }
 },
 "nbformat": 4,
 "nbformat_minor": 4
}
